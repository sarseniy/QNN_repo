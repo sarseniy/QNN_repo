{
 "cells": [
  {
   "cell_type": "markdown",
   "metadata": {
    "id": "-MmbCwyRcXF6"
   },
   "source": [
    "# MNIST classification"
   ]
  },
  {
   "cell_type": "markdown",
   "metadata": {
    "id": "k3k0pzjucQuv"
   },
   "source": [
    "We are going to use PYTorch and create CNN model step by step. Then we will train the model with training data and evaluate the model with test data."
   ]
  },
  {
   "cell_type": "code",
   "execution_count": 1,
   "metadata": {
    "id": "lNJhJ7Y5cVG9"
   },
   "outputs": [],
   "source": [
    "import torch"
   ]
  },
  {
   "cell_type": "markdown",
   "metadata": {
    "id": "8qxTchH5ciDg"
   },
   "source": [
    "Check available device"
   ]
  },
  {
   "cell_type": "code",
   "execution_count": 18,
   "metadata": {
    "colab": {
     "base_uri": "https://localhost:8080/"
    },
    "id": "e-U3JPCHcHUX",
    "outputId": "03804e2c-5b32-4579-b1e9-d734481ebac5"
   },
   "outputs": [
    {
     "name": "stdout",
     "output_type": "stream",
     "text": [
      "Using cuda device\n"
     ]
    }
   ],
   "source": [
    "# Get cpu or gpu device for training.\n",
    "device = \"cuda\" if torch.cuda.is_available() else \"cpu\"\n",
    "print(\"Using {} device\".format(device))"
   ]
  },
  {
   "cell_type": "markdown",
   "metadata": {
    "id": "jHxLTYt3cscq"
   },
   "source": [
    "## Download MNIST dataset"
   ]
  },
  {
   "cell_type": "markdown",
   "metadata": {
    "id": "zCtRyAmccuHl"
   },
   "source": [
    "**What is MNIST dataset?**\n",
    "\n",
    "The MNIST database (Modified National Institute of Standards and Technology database) is a large database of handwritten digits that is commonly used for training various image processing systems. The database is also widely used for training and testing in the field of machine learning.\n",
    "\n",
    "The MNIST database contains 60,000 training images and 10,000 testing images.\n",
    "PyTorch domain libraries provide a number of pre-loaded datasets (such as FashionMNIST, MNIST etc…) that subclass `torch.utils.data.Dataset` and implement functions specific to the particular data. They can be used to prototype and benchmark your model. In this example we are using MNIST dataset."
   ]
  },
  {
   "cell_type": "markdown",
   "metadata": {
    "id": "aXNv_QgJdAdz"
   },
   "source": [
    "**Download MNIST dataset in local system**"
   ]
  },
  {
   "cell_type": "code",
   "execution_count": 19,
   "metadata": {
    "id": "fZWjPTsMck0N"
   },
   "outputs": [],
   "source": [
    "from torchvision import datasets\n",
    "from torchvision.transforms import ToTensor\n",
    "\n",
    "train_data = datasets.MNIST(\n",
    "    root = 'data',\n",
    "    train = True,                         \n",
    "    transform = ToTensor(), \n",
    "    download = True,            \n",
    ")\n",
    "test_data = datasets.MNIST(\n",
    "    root = 'data', \n",
    "    train = False, \n",
    "    transform = ToTensor()\n",
    ")"
   ]
  },
  {
   "cell_type": "code",
   "execution_count": 20,
   "metadata": {
    "colab": {
     "base_uri": "https://localhost:8080/"
    },
    "id": "92fHcFtfdG68",
    "outputId": "1f8d24ee-2833-41ed-bf4e-48cb03e6ff60"
   },
   "outputs": [
    {
     "name": "stdout",
     "output_type": "stream",
     "text": [
      "Dataset MNIST\n",
      "    Number of datapoints: 60000\n",
      "    Root location: data\n",
      "    Split: Train\n",
      "    StandardTransform\n",
      "Transform: ToTensor()\n"
     ]
    }
   ],
   "source": [
    "print(train_data)"
   ]
  },
  {
   "cell_type": "code",
   "execution_count": 21,
   "metadata": {
    "colab": {
     "base_uri": "https://localhost:8080/"
    },
    "id": "V6F_niNpdU02",
    "outputId": "89cb3fff-c32d-4c8d-c9e3-59276d3404bb"
   },
   "outputs": [
    {
     "name": "stdout",
     "output_type": "stream",
     "text": [
      "torch.Size([60000, 28, 28])\n"
     ]
    }
   ],
   "source": [
    "print(train_data.data.size())"
   ]
  },
  {
   "cell_type": "code",
   "execution_count": 22,
   "metadata": {
    "colab": {
     "base_uri": "https://localhost:8080/"
    },
    "id": "SPwIbyYudLKk",
    "outputId": "0182cdd4-b5d4-4539-fb4b-8dca55ac4151"
   },
   "outputs": [
    {
     "name": "stdout",
     "output_type": "stream",
     "text": [
      "Dataset MNIST\n",
      "    Number of datapoints: 10000\n",
      "    Root location: data\n",
      "    Split: Test\n",
      "    StandardTransform\n",
      "Transform: ToTensor()\n"
     ]
    }
   ],
   "source": [
    "print(test_data)"
   ]
  },
  {
   "cell_type": "code",
   "execution_count": 23,
   "metadata": {
    "colab": {
     "base_uri": "https://localhost:8080/"
    },
    "id": "vYp4ap5KdMXU",
    "outputId": "0c3b2305-d3c2-444a-bf4e-52f1673ac390"
   },
   "outputs": [
    {
     "name": "stdout",
     "output_type": "stream",
     "text": [
      "torch.Size([60000])\n"
     ]
    }
   ],
   "source": [
    "print(train_data.targets.size())"
   ]
  },
  {
   "cell_type": "markdown",
   "metadata": {
    "id": "_FgE06wGdb9E"
   },
   "source": [
    "## Visualization of MNIST dataset"
   ]
  },
  {
   "cell_type": "markdown",
   "metadata": {
    "id": "NmyQJhvzdeNt"
   },
   "source": [
    "**Plot one train_data**"
   ]
  },
  {
   "cell_type": "code",
   "execution_count": 24,
   "metadata": {
    "colab": {
     "base_uri": "https://localhost:8080/",
     "height": 281
    },
    "id": "2in4ioYcdW0j",
    "outputId": "20a1f29d-c34f-4dc0-f650-d39946731c8e"
   },
   "outputs": [
    {
     "data": {
      "image/png": "[encoded data removed]",
      "text/plain": [
       "<Figure size 432x288 with 1 Axes>"
      ]
     },
     "metadata": {
      "needs_background": "light",
      "tags": []
     },
     "output_type": "display_data"
    }
   ],
   "source": [
    "import matplotlib.pyplot as plt\n",
    "\n",
    "plt.imshow(train_data.data[0], cmap='gray')\n",
    "plt.title('%i' % train_data.targets[0])\n",
    "plt.show()"
   ]
  },
  {
   "cell_type": "markdown",
   "metadata": {
    "id": "Nk1_IPtDdo6K"
   },
   "source": [
    "**Plot multiple train_data**"
   ]
  },
  {
   "cell_type": "code",
   "execution_count": 25,
   "metadata": {
    "colab": {
     "base_uri": "https://localhost:8080/",
     "height": 482
    },
    "id": "P_wmeqRodhNG",
    "outputId": "7273f9bd-f08b-40d0-f384-52f5b48b1cae"
   },
   "outputs": [
    {
     "data": {
      "image/png": "[encoded data removed]",
      "text/plain": [
       "<Figure size 720x576 with 25 Axes>"
      ]
     },
     "metadata": {
      "needs_background": "light",
      "tags": []
     },
     "output_type": "display_data"
    }
   ],
   "source": [
    "figure = plt.figure(figsize=(10, 8))\n",
    "cols, rows = 5, 5\n",
    "for i in range(1, cols * rows + 1):\n",
    "    sample_idx = torch.randint(len(train_data), size=(1,)).item()\n",
    "    img, label = train_data[sample_idx]\n",
    "    figure.add_subplot(rows, cols, i)\n",
    "    plt.title(label)\n",
    "    plt.axis(\"off\")\n",
    "    plt.imshow(img.squeeze(), cmap=\"gray\")\n",
    "plt.show()"
   ]
  },
  {
   "cell_type": "markdown",
   "metadata": {
    "id": "Vy5S2BDKdtWn"
   },
   "source": [
    "## Preparing data for training with DataLoaders"
   ]
  },
  {
   "cell_type": "markdown",
   "metadata": {
    "id": "CnTI3XI5dxXI"
   },
   "source": [
    "The Dataset retrieves our dataset’s features and labels one sample at a time. While training a model, we typically want to pass samples in “minibatches”, reshuffle the data at every epoch to reduce model overfitting, and use Python’s multiprocessing to speed up data retrieval.\n",
    "\n",
    "`DataLoader` is an iterable that abstracts this complexity for us in an easy API.\n"
   ]
  },
  {
   "cell_type": "code",
   "execution_count": 26,
   "metadata": {
    "id": "9MvtPYL-dq9I"
   },
   "outputs": [],
   "source": [
    "from torch.utils.data import DataLoader\n",
    "\n",
    "loaders = {\n",
    "    'train' : torch.utils.data.DataLoader(train_data, \n",
    "                                          batch_size=100, \n",
    "                                          shuffle=True, \n",
    "                                          num_workers=1),\n",
    "    \n",
    "    'test'  : torch.utils.data.DataLoader(test_data, \n",
    "                                          batch_size=100, \n",
    "                                          shuffle=True, \n",
    "                                          num_workers=1),\n",
    "}"
   ]
  },
  {
   "cell_type": "markdown",
   "metadata": {
    "id": "Vvd07c5veIFQ"
   },
   "source": [
    "## Define the Convolutional Neural Network model"
   ]
  },
  {
   "cell_type": "markdown",
   "metadata": {
    "id": "h9x32R4feLu3"
   },
   "source": [
    "A Convolutional Neural Network is type of neural network that is used mainly in image processing applications.\n",
    "Let us create convolution neural network using `torch.nn.Module`. `torch.nn.Module` will be base class for all neural network modules. We will use 2 fully convolutional layers, Relu activation function and MaxPooling."
   ]
  },
  {
   "cell_type": "markdown",
   "metadata": {
    "id": "FCuEyvjuehCd"
   },
   "source": [
    "**Conv2d: Applies a 2D convolution over an input signal composed of several input planes.**\n",
    "\n",
    "Parameters\n",
    "\n",
    "- **in_channels (int)** — Number of channels in the input image\n",
    "- **out_channels (int)** — Number of channels produced by the convolution\n",
    "- **kernel_size (int or tuple)** — Size of the convolving kernel\n",
    "- **stride (int or tuple, optional)** — Stride of the convolution. Default: 1\n",
    "- **padding (int or tuple, optional)** — Zero-padding added to both sides of the input. Default: 0\n",
    "- **padding_mode (string, optional)** — ‘zeros’, ‘reflect’, ‘replicate’ or ‘circular’. Default: ‘zeros’\n",
    "- **dilation (int or tuple, optional)** — Spacing between kernel elements. Default: 1\n",
    "- **groups (int, optional)** — Number of blocked connections from input channels to output channels. Default: 1\n",
    "- **bias (bool, optional)** — If True, adds a learnable bias to the output. Default: True"
   ]
  },
  {
   "cell_type": "code",
   "execution_count": 27,
   "metadata": {
    "id": "xwaJbRV9eBVD"
   },
   "outputs": [],
   "source": [
    "import torch.nn as nn\n",
    "\n",
    "class ConvNN(nn.Module):\n",
    "    def __init__(self):\n",
    "        super(ConvNN, self).__init__()\n",
    "        self.conv1 = nn.Sequential(         \n",
    "            nn.Conv2d(\n",
    "                in_channels=1,              \n",
    "                out_channels=16,            \n",
    "                kernel_size=5,              \n",
    "                stride=1,                   \n",
    "                padding=2,                  \n",
    "            ),                              \n",
    "            nn.ReLU(),                      \n",
    "            nn.MaxPool2d(kernel_size=2),    \n",
    "        )\n",
    "        self.conv2 = nn.Sequential(         \n",
    "            nn.Conv2d(\n",
    "                in_channels=16,              \n",
    "                out_channels=32,            \n",
    "                kernel_size=5,              \n",
    "                stride=1,                   \n",
    "                padding=2,    \n",
    "            ),     \n",
    "            nn.ReLU(),                      \n",
    "            nn.MaxPool2d(kernel_size=2),                \n",
    "        )\n",
    "        # fully connected layer, output 10 classes\n",
    "        self.out = nn.Linear(32 * 7 * 7, 10)\n",
    "    def forward(self, x):\n",
    "        x = self.conv1(x)\n",
    "        x = self.conv2(x)\n",
    "        # flatten the output of conv2 to (batch_size, 32 * 7 * 7)\n",
    "        x = x.view(x.size(0), -1)       \n",
    "        logits = self.out(x)\n",
    "        return logits"
   ]
  },
  {
   "cell_type": "markdown",
   "metadata": {
    "id": "_qrpqw9rgJWp"
   },
   "source": [
    "**in_channels=1:** because our input is a grayscale image.\n",
    "\n",
    "**Stride:** is the number of pixels to pass at a time when sliding the convolutional kernel.\n",
    "\n",
    "**Padding:** to preserve exactly the size of the input image, it is useful to add a zero padding on the border of the image.\n",
    "\n",
    "**kernel_size:** we need to define a kernel which is a small matrix of size 5 * 5. To perform the convolution operation, we just need to slide the kernel along the image horizontally and vertically and do the dot product of the kernel and the small portion of the image.\n",
    "\n",
    "The `forward()` pass defines the way we compute our output using the given layers and functions."
   ]
  },
  {
   "cell_type": "code",
   "execution_count": 28,
   "metadata": {
    "colab": {
     "base_uri": "https://localhost:8080/"
    },
    "id": "xAAGCwsjgDhT",
    "outputId": "12d52a71-d6cd-4882-bfe4-527d958d4d07"
   },
   "outputs": [
    {
     "name": "stdout",
     "output_type": "stream",
     "text": [
      "ConvNN(\n",
      "  (conv1): Sequential(\n",
      "    (0): Conv2d(1, 16, kernel_size=(5, 5), stride=(1, 1), padding=(2, 2))\n",
      "    (1): ReLU()\n",
      "    (2): MaxPool2d(kernel_size=2, stride=2, padding=0, dilation=1, ceil_mode=False)\n",
      "  )\n",
      "  (conv2): Sequential(\n",
      "    (0): Conv2d(16, 32, kernel_size=(5, 5), stride=(1, 1), padding=(2, 2))\n",
      "    (1): ReLU()\n",
      "    (2): MaxPool2d(kernel_size=2, stride=2, padding=0, dilation=1, ceil_mode=False)\n",
      "  )\n",
      "  (out): Linear(in_features=1568, out_features=10, bias=True)\n",
      ")\n"
     ]
    }
   ],
   "source": [
    "cnn = ConvNN().to(device)\n",
    "print(cnn)"
   ]
  },
  {
   "cell_type": "markdown",
   "metadata": {
    "id": "zsGgfSiVhfKV"
   },
   "source": [
    "## Train the model"
   ]
  },
  {
   "cell_type": "markdown",
   "metadata": {
    "id": "JTGJ6qKGhuTo"
   },
   "source": [
    "Define loss function"
   ]
  },
  {
   "cell_type": "code",
   "execution_count": 30,
   "metadata": {
    "id": "vCRh-v7FhwIA"
   },
   "outputs": [],
   "source": [
    "loss_func = nn.CrossEntropyLoss()  "
   ]
  },
  {
   "cell_type": "markdown",
   "metadata": {
    "id": "w9R3k7UChyUn"
   },
   "source": [
    "Define an optimization function"
   ]
  },
  {
   "cell_type": "code",
   "execution_count": 31,
   "metadata": {
    "id": "RBChI1THh2cW"
   },
   "outputs": [],
   "source": [
    "from torch import optim\n",
    "\n",
    "optimizer = optim.Adam(cnn.parameters(), lr = 0.01)   "
   ]
  },
  {
   "cell_type": "markdown",
   "metadata": {
    "id": "m7t9rhiohkUR"
   },
   "source": [
    "Create a function called `train()` and pass num of epochs, model and data loaders as input parameters.\n",
    "\n",
    "`num_epochs`: Number of times our model will go through the entire training dataset"
   ]
  },
  {
   "cell_type": "code",
   "execution_count": 32,
   "metadata": {
    "id": "ts0cVqtjhPYC"
   },
   "outputs": [],
   "source": [
    "from tqdm.notebook import trange\n",
    "from torch.autograd import Variable\n",
    "\n",
    "def train(num_epochs, model, loaders):\n",
    "    \n",
    "    model.train()\n",
    "        \n",
    "    # Train the model\n",
    "    total_step = len(loaders['train'])\n",
    "        \n",
    "    for epoch in trange(num_epochs):\n",
    "        for i, (images, labels) in enumerate(loaders['train']):\n",
    "            \n",
    "            images, labels = images.to(device), labels.to(device)\n",
    "\n",
    "            b_x = Variable(images)   # batch x\n",
    "            b_y = Variable(labels)   # batch y\n",
    "\n",
    "            output = model(b_x)             \n",
    "            loss = loss_func(output, b_y)\n",
    "            \n",
    "            # clear gradients for this training step   \n",
    "            optimizer.zero_grad()           \n",
    "            \n",
    "            # backpropagation, compute gradients \n",
    "            loss.backward()    \n",
    "            # apply gradients             \n",
    "            optimizer.step()                \n",
    "            \n",
    "            if (i+1) % 100 == 0:\n",
    "                print('Epoch [{}/{}], Step [{}/{}], Loss: {:.4f}' \n",
    "                       .format(epoch + 1, num_epochs, i + 1, total_step, loss.item()))\n",
    "        print('\\n')"
   ]
  },
  {
   "cell_type": "code",
   "execution_count": 33,
   "metadata": {
    "colab": {
     "base_uri": "https://localhost:8080/",
     "height": 1000,
     "referenced_widgets": [
      "2e3aed54b7f84436ae4c160e589fce27",
      "47e68fb4709844c7a33fdb1a7523598b",
      "3fd65288c31e4dc98fad683a137853d7",
      "9b8279c48abd40a398006d0011e20128",
      "4cdd194fe2d64833ac21f14192e516bf",
      "af13dc25496b45b89cd548e52b3a3d32",
      "d2ec06117668413487349201c83fd392",
      "4280508457ab41869fbaf79906cdaf2c"
     ]
    },
    "id": "s77I2y-1kYUL",
    "outputId": "f8aa6713-7dfc-400a-d499-9473a2b0a83c"
   },
   "outputs": [
    {
     "data": {
      "application/vnd.jupyter.widget-view+json": {
       "model_id": "2e3aed54b7f84436ae4c160e589fce27",
       "version_major": 2,
       "version_minor": 0
      },
      "text/plain": [
       "HBox(children=(FloatProgress(value=0.0, max=10.0), HTML(value='')))"
      ]
     },
     "metadata": {
      "tags": []
     },
     "output_type": "display_data"
    },
    {
     "name": "stdout",
     "output_type": "stream",
     "text": [
      "Epoch [1/10], Step [100/600], Loss: 0.1096\n",
      "Epoch [1/10], Step [200/600], Loss: 0.0454\n",
      "Epoch [1/10], Step [300/600], Loss: 0.0928\n",
      "Epoch [1/10], Step [400/600], Loss: 0.1035\n",
      "Epoch [1/10], Step [500/600], Loss: 0.0459\n",
      "Epoch [1/10], Step [600/600], Loss: 0.0398\n",
      "\n",
      "\n",
      "Epoch [2/10], Step [100/600], Loss: 0.0349\n",
      "Epoch [2/10], Step [200/600], Loss: 0.0462\n",
      "Epoch [2/10], Step [300/600], Loss: 0.0362\n",
      "Epoch [2/10], Step [400/600], Loss: 0.0604\n",
      "Epoch [2/10], Step [500/600], Loss: 0.0414\n",
      "Epoch [2/10], Step [600/600], Loss: 0.0426\n",
      "\n",
      "\n",
      "Epoch [3/10], Step [100/600], Loss: 0.1724\n",
      "Epoch [3/10], Step [200/600], Loss: 0.0725\n",
      "Epoch [3/10], Step [300/600], Loss: 0.0409\n",
      "Epoch [3/10], Step [400/600], Loss: 0.0605\n",
      "Epoch [3/10], Step [500/600], Loss: 0.0983\n",
      "Epoch [3/10], Step [600/600], Loss: 0.0139\n",
      "\n",
      "\n",
      "Epoch [4/10], Step [100/600], Loss: 0.0742\n",
      "Epoch [4/10], Step [200/600], Loss: 0.0623\n",
      "Epoch [4/10], Step [300/600], Loss: 0.0799\n",
      "Epoch [4/10], Step [400/600], Loss: 0.0564\n",
      "Epoch [4/10], Step [500/600], Loss: 0.0628\n",
      "Epoch [4/10], Step [600/600], Loss: 0.0105\n",
      "\n",
      "\n",
      "Epoch [5/10], Step [100/600], Loss: 0.0203\n",
      "Epoch [5/10], Step [200/600], Loss: 0.1139\n",
      "Epoch [5/10], Step [300/600], Loss: 0.1266\n",
      "Epoch [5/10], Step [400/600], Loss: 0.0213\n",
      "Epoch [5/10], Step [500/600], Loss: 0.0921\n",
      "Epoch [5/10], Step [600/600], Loss: 0.0314\n",
      "\n",
      "\n",
      "Epoch [6/10], Step [100/600], Loss: 0.0377\n",
      "Epoch [6/10], Step [200/600], Loss: 0.0130\n",
      "Epoch [6/10], Step [300/600], Loss: 0.0178\n",
      "Epoch [6/10], Step [400/600], Loss: 0.0051\n",
      "Epoch [6/10], Step [500/600], Loss: 0.0937\n",
      "Epoch [6/10], Step [600/600], Loss: 0.0149\n",
      "\n",
      "\n",
      "Epoch [7/10], Step [100/600], Loss: 0.0172\n",
      "Epoch [7/10], Step [200/600], Loss: 0.0197\n",
      "Epoch [7/10], Step [300/600], Loss: 0.0052\n",
      "Epoch [7/10], Step [400/600], Loss: 0.0696\n",
      "Epoch [7/10], Step [500/600], Loss: 0.0080\n",
      "Epoch [7/10], Step [600/600], Loss: 0.0404\n",
      "\n",
      "\n",
      "Epoch [8/10], Step [100/600], Loss: 0.0109\n",
      "Epoch [8/10], Step [200/600], Loss: 0.0052\n",
      "Epoch [8/10], Step [300/600], Loss: 0.0242\n",
      "Epoch [8/10], Step [400/600], Loss: 0.1284\n",
      "Epoch [8/10], Step [500/600], Loss: 0.0035\n",
      "Epoch [8/10], Step [600/600], Loss: 0.0016\n",
      "\n",
      "\n",
      "Epoch [9/10], Step [100/600], Loss: 0.0008\n",
      "Epoch [9/10], Step [200/600], Loss: 0.0028\n",
      "Epoch [9/10], Step [300/600], Loss: 0.2760\n",
      "Epoch [9/10], Step [400/600], Loss: 0.0030\n",
      "Epoch [9/10], Step [500/600], Loss: 0.0122\n",
      "Epoch [9/10], Step [600/600], Loss: 0.0400\n",
      "\n",
      "\n",
      "Epoch [10/10], Step [100/600], Loss: 0.1840\n",
      "Epoch [10/10], Step [200/600], Loss: 0.0007\n",
      "Epoch [10/10], Step [300/600], Loss: 0.0022\n",
      "Epoch [10/10], Step [400/600], Loss: 0.0439\n",
      "Epoch [10/10], Step [500/600], Loss: 0.1351\n",
      "Epoch [10/10], Step [600/600], Loss: 0.0664\n",
      "\n",
      "\n",
      "\n"
     ]
    }
   ],
   "source": [
    "num_epochs = 10\n",
    "\n",
    "train(num_epochs, cnn, loaders)"
   ]
  },
  {
   "cell_type": "markdown",
   "metadata": {
    "id": "ckPcdl5fl43D"
   },
   "source": [
    "## Evaluate the model on test data"
   ]
  },
  {
   "cell_type": "markdown",
   "metadata": {
    "id": "U1ciUj3ul8Hg"
   },
   "source": [
    "We must call `model.eval()` to set dropout and batch normalization layers to evaluation mode before running inference.\n",
    "\n",
    "`model.train()` tells your model that you are training the model. So effectively layers like dropout, batchnorm etc. which behave different on the train and test procedures know what is going on and hence can behave accordingly.\n",
    "\n",
    "You can call either `model.eval()` or `model.train(mode=False)` to tell that you are testing the model."
   ]
  },
  {
   "cell_type": "code",
   "execution_count": 61,
   "metadata": {
    "id": "I75Sa4ihl3ek"
   },
   "outputs": [],
   "source": [
    "def test(model):\n",
    "    # Test the model\n",
    "    model.eval()\n",
    "    with torch.no_grad():\n",
    "        accuracy = 0\n",
    "        for i, (images, labels) in enumerate(loaders['test']):\n",
    "            images, labels = images.to(device), labels.to(device)\n",
    "            \n",
    "            test_output = model(images)\n",
    "            pred_y = torch.max(test_output, 1)[1]\n",
    "            accuracy += (pred_y == labels).sum().item() \n",
    "        accuracy /= len(loaders['test'].dataset)\n",
    "        print('Test Accuracy of the model on the 10000 test images: {:.2f} %'.format(accuracy*100.0))"
   ]
  },
  {
   "cell_type": "code",
   "execution_count": 62,
   "metadata": {
    "colab": {
     "base_uri": "https://localhost:8080/"
    },
    "id": "SAcRIIR0kbjc",
    "outputId": "3098a598-5a1f-469f-8e09-4b2a475178aa"
   },
   "outputs": [
    {
     "name": "stdout",
     "output_type": "stream",
     "text": [
      "Test Accuracy of the model on the 10000 test images: 98.76 %\n"
     ]
    }
   ],
   "source": [
    "test(cnn)"
   ]
  },
  {
   "cell_type": "markdown",
   "metadata": {
    "id": "HO24LNxkopqB"
   },
   "source": [
    "**Print 10 predictions from test data**"
   ]
  },
  {
   "cell_type": "code",
   "execution_count": 52,
   "metadata": {
    "id": "ck5jhZSQnz1v"
   },
   "outputs": [],
   "source": [
    "sample = next(iter(loaders['test']))\n",
    "images, labels = sample"
   ]
  },
  {
   "cell_type": "code",
   "execution_count": 54,
   "metadata": {
    "colab": {
     "base_uri": "https://localhost:8080/"
    },
    "id": "1_ntxPwao7hb",
    "outputId": "2c46d9d3-0561-4084-f3dd-16eefe10fc90"
   },
   "outputs": [
    {
     "data": {
      "text/plain": [
       "array([5, 4, 3, 1, 4, 9, 3, 6, 9, 4])"
      ]
     },
     "execution_count": 54,
     "metadata": {
      "tags": []
     },
     "output_type": "execute_result"
    }
   ],
   "source": [
    "actual_number = labels[:10].numpy()\n",
    "actual_number"
   ]
  },
  {
   "cell_type": "code",
   "execution_count": 55,
   "metadata": {
    "colab": {
     "base_uri": "https://localhost:8080/"
    },
    "id": "eIYakLczpA05",
    "outputId": "6dea11a3-f0fa-466a-f5f7-86e9c496c91c"
   },
   "outputs": [
    {
     "name": "stdout",
     "output_type": "stream",
     "text": [
      "Prediction number: [5 4 3 1 4 9 3 6 9 4]\n",
      "Actual number: [5 4 3 1 4 9 3 6 9 4]\n"
     ]
    }
   ],
   "source": [
    "test_output = cnn(images[:10].to(device))\n",
    "pred_y = torch.max(test_output, 1)[1].cpu().numpy()\n",
    "print(f'Prediction number: {pred_y}')\n",
    "print(f'Actual number: {actual_number}')"
   ]
  }
 ],
 "metadata": {
  "accelerator": "GPU",
  "colab": {
   "collapsed_sections": [],
   "name": "mnist1.ipynb",
   "provenance": []
  },
  "kernelspec": {
   "display_name": "Python 3",
   "language": "python",
   "name": "python3"
  },
  "language_info": {
   "codemirror_mode": {
    "name": "ipython",
    "version": 3
   },
   "file_extension": ".py",
   "mimetype": "text/x-python",
   "name": "python",
   "nbconvert_exporter": "python",
   "pygments_lexer": "ipython3",
   "version": "3.8.8"
  },
  "widgets": {
   "application/vnd.jupyter.widget-state+json": {
    "2e3aed54b7f84436ae4c160e589fce27": {
     "model_module": "@jupyter-widgets/controls",
     "model_name": "HBoxModel",
     "state": {
      "_dom_classes": [],
      "_model_module": "@jupyter-widgets/controls",
      "_model_module_version": "1.5.0",
      "_model_name": "HBoxModel",
      "_view_count": null,
      "_view_module": "@jupyter-widgets/controls",
      "_view_module_version": "1.5.0",
      "_view_name": "HBoxView",
      "box_style": "",
      "children": [
       "IPY_MODEL_3fd65288c31e4dc98fad683a137853d7",
       "IPY_MODEL_9b8279c48abd40a398006d0011e20128"
      ],
      "layout": "IPY_MODEL_47e68fb4709844c7a33fdb1a7523598b"
     }
    },
    "3fd65288c31e4dc98fad683a137853d7": {
     "model_module": "@jupyter-widgets/controls",
     "model_name": "FloatProgressModel",
     "state": {
      "_dom_classes": [],
      "_model_module": "@jupyter-widgets/controls",
      "_model_module_version": "1.5.0",
      "_model_name": "FloatProgressModel",
      "_view_count": null,
      "_view_module": "@jupyter-widgets/controls",
      "_view_module_version": "1.5.0",
      "_view_name": "ProgressView",
      "bar_style": "success",
      "description": "100%",
      "description_tooltip": null,
      "layout": "IPY_MODEL_af13dc25496b45b89cd548e52b3a3d32",
      "max": 10,
      "min": 0,
      "orientation": "horizontal",
      "style": "IPY_MODEL_4cdd194fe2d64833ac21f14192e516bf",
      "value": 10
     }
    },
    "4280508457ab41869fbaf79906cdaf2c": {
     "model_module": "@jupyter-widgets/base",
     "model_name": "LayoutModel",
     "state": {
      "_model_module": "@jupyter-widgets/base",
      "_model_module_version": "1.2.0",
      "_model_name": "LayoutModel",
      "_view_count": null,
      "_view_module": "@jupyter-widgets/base",
      "_view_module_version": "1.2.0",
      "_view_name": "LayoutView",
      "align_content": null,
      "align_items": null,
      "align_self": null,
      "border": null,
      "bottom": null,
      "display": null,
      "flex": null,
      "flex_flow": null,
      "grid_area": null,
      "grid_auto_columns": null,
      "grid_auto_flow": null,
      "grid_auto_rows": null,
      "grid_column": null,
      "grid_gap": null,
      "grid_row": null,
      "grid_template_areas": null,
      "grid_template_columns": null,
      "grid_template_rows": null,
      "height": null,
      "justify_content": null,
      "justify_items": null,
      "left": null,
      "margin": null,
      "max_height": null,
      "max_width": null,
      "min_height": null,
      "min_width": null,
      "object_fit": null,
      "object_position": null,
      "order": null,
      "overflow": null,
      "overflow_x": null,
      "overflow_y": null,
      "padding": null,
      "right": null,
      "top": null,
      "visibility": null,
      "width": null
     }
    },
    "47e68fb4709844c7a33fdb1a7523598b": {
     "model_module": "@jupyter-widgets/base",
     "model_name": "LayoutModel",
     "state": {
      "_model_module": "@jupyter-widgets/base",
      "_model_module_version": "1.2.0",
      "_model_name": "LayoutModel",
      "_view_count": null,
      "_view_module": "@jupyter-widgets/base",
      "_view_module_version": "1.2.0",
      "_view_name": "LayoutView",
      "align_content": null,
      "align_items": null,
      "align_self": null,
      "border": null,
      "bottom": null,
      "display": null,
      "flex": null,
      "flex_flow": null,
      "grid_area": null,
      "grid_auto_columns": null,
      "grid_auto_flow": null,
      "grid_auto_rows": null,
      "grid_column": null,
      "grid_gap": null,
      "grid_row": null,
      "grid_template_areas": null,
      "grid_template_columns": null,
      "grid_template_rows": null,
      "height": null,
      "justify_content": null,
      "justify_items": null,
      "left": null,
      "margin": null,
      "max_height": null,
      "max_width": null,
      "min_height": null,
      "min_width": null,
      "object_fit": null,
      "object_position": null,
      "order": null,
      "overflow": null,
      "overflow_x": null,
      "overflow_y": null,
      "padding": null,
      "right": null,
      "top": null,
      "visibility": null,
      "width": null
     }
    },
    "4cdd194fe2d64833ac21f14192e516bf": {
     "model_module": "@jupyter-widgets/controls",
     "model_name": "ProgressStyleModel",
     "state": {
      "_model_module": "@jupyter-widgets/controls",
      "_model_module_version": "1.5.0",
      "_model_name": "ProgressStyleModel",
      "_view_count": null,
      "_view_module": "@jupyter-widgets/base",
      "_view_module_version": "1.2.0",
      "_view_name": "StyleView",
      "bar_color": null,
      "description_width": "initial"
     }
    },
    "9b8279c48abd40a398006d0011e20128": {
     "model_module": "@jupyter-widgets/controls",
     "model_name": "HTMLModel",
     "state": {
      "_dom_classes": [],
      "_model_module": "@jupyter-widgets/controls",
      "_model_module_version": "1.5.0",
      "_model_name": "HTMLModel",
      "_view_count": null,
      "_view_module": "@jupyter-widgets/controls",
      "_view_module_version": "1.5.0",
      "_view_name": "HTMLView",
      "description": "",
      "description_tooltip": null,
      "layout": "IPY_MODEL_4280508457ab41869fbaf79906cdaf2c",
      "placeholder": "​",
      "style": "IPY_MODEL_d2ec06117668413487349201c83fd392",
      "value": " 10/10 [01:10&lt;00:00,  7.04s/it]"
     }
    },
    "af13dc25496b45b89cd548e52b3a3d32": {
     "model_module": "@jupyter-widgets/base",
     "model_name": "LayoutModel",
     "state": {
      "_model_module": "@jupyter-widgets/base",
      "_model_module_version": "1.2.0",
      "_model_name": "LayoutModel",
      "_view_count": null,
      "_view_module": "@jupyter-widgets/base",
      "_view_module_version": "1.2.0",
      "_view_name": "LayoutView",
      "align_content": null,
      "align_items": null,
      "align_self": null,
      "border": null,
      "bottom": null,
      "display": null,
      "flex": null,
      "flex_flow": null,
      "grid_area": null,
      "grid_auto_columns": null,
      "grid_auto_flow": null,
      "grid_auto_rows": null,
      "grid_column": null,
      "grid_gap": null,
      "grid_row": null,
      "grid_template_areas": null,
      "grid_template_columns": null,
      "grid_template_rows": null,
      "height": null,
      "justify_content": null,
      "justify_items": null,
      "left": null,
      "margin": null,
      "max_height": null,
      "max_width": null,
      "min_height": null,
      "min_width": null,
      "object_fit": null,
      "object_position": null,
      "order": null,
      "overflow": null,
      "overflow_x": null,
      "overflow_y": null,
      "padding": null,
      "right": null,
      "top": null,
      "visibility": null,
      "width": null
     }
    },
    "d2ec06117668413487349201c83fd392": {
     "model_module": "@jupyter-widgets/controls",
     "model_name": "DescriptionStyleModel",
     "state": {
      "_model_module": "@jupyter-widgets/controls",
      "_model_module_version": "1.5.0",
      "_model_name": "DescriptionStyleModel",
      "_view_count": null,
      "_view_module": "@jupyter-widgets/base",
      "_view_module_version": "1.2.0",
      "_view_name": "StyleView",
      "description_width": ""
     }
    }
   }
  }
 },
 "nbformat": 4,
 "nbformat_minor": 1
}
