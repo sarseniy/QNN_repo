{
 "cells": [
  {
   "cell_type": "code",
   "execution_count": 1,
   "metadata": {
    "colab": {
     "base_uri": "https://localhost:8080/"
    },
    "id": "LYv7EqeQlH-B",
    "outputId": "aec30672-2825-4152-d4b9-dd8550b7e6c9"
   },
   "outputs": [
    {
     "name": "stdout",
     "output_type": "stream",
     "text": [
      "Collecting pennylane\n",
      "  Downloading PennyLane-0.18.0-py3-none-any.whl (631 kB)\n",
      "Requirement already satisfied: appdirs in c:\\programdata\\anaconda3\\lib\\site-packages (from pennylane) (1.4.4)\n",
      "Requirement already satisfied: networkx in c:\\programdata\\anaconda3\\lib\\site-packages (from pennylane) (2.5)\n",
      "Collecting autoray\n",
      "  Downloading autoray-0.2.5-py3-none-any.whl (16 kB)\n",
      "Collecting cachetools\n",
      "  Downloading cachetools-4.2.4-py3-none-any.whl (10 kB)\n",
      "Collecting autograd\n",
      "  Downloading autograd-1.3.tar.gz (38 kB)\n",
      "Requirement already satisfied: numpy in c:\\programdata\\anaconda3\\lib\\site-packages (from pennylane) (1.20.1)\n",
      "Collecting semantic-version==2.6\n",
      "  Downloading semantic_version-2.6.0-py3-none-any.whl (14 kB)\n",
      "Collecting pennylane-lightning>=0.18\n",
      "  Downloading PennyLane_Lightning-0.18.0-cp38-cp38-win_amd64.whl (160 kB)\n",
      "Requirement already satisfied: scipy in c:\\programdata\\anaconda3\\lib\\site-packages (from pennylane) (1.6.2)\n",
      "Requirement already satisfied: toml in c:\\programdata\\anaconda3\\lib\\site-packages (from pennylane) (0.10.2)\n",
      "Requirement already satisfied: future>=0.15.2 in c:\\programdata\\anaconda3\\lib\\site-packages (from autograd->pennylane) (0.18.2)\n",
      "Requirement already satisfied: decorator>=4.3.0 in c:\\programdata\\anaconda3\\lib\\site-packages (from networkx->pennylane) (5.0.6)\n",
      "Building wheels for collected packages: autograd\n",
      "  Building wheel for autograd (setup.py): started\n",
      "  Building wheel for autograd (setup.py): finished with status 'done'\n",
      "  Created wheel for autograd: filename=autograd-1.3-py3-none-any.whl size=47989 sha256=8f928093c3e40a807184c806aeccf673c28d2afd6dbc6b2150ad626506bf95a0\n",
      "  Stored in directory: c:\\users\\0\\appdata\\local\\pip\\cache\\wheels\\85\\f5\\d2\\3ef47d3a836b17620bf41647222825b065245862d12aa62885\n",
      "Successfully built autograd\n",
      "Installing collected packages: semantic-version, pennylane-lightning, cachetools, autoray, autograd, pennylane\n",
      "Successfully installed autograd-1.3 autoray-0.2.5 cachetools-4.2.4 pennylane-0.18.0 pennylane-lightning-0.18.0 semantic-version-2.6.0\n"
     ]
    }
   ],
   "source": [
    "# install the latest released version of PennyLane\n",
    "!pip install pennylane --upgrade"
   ]
  },
  {
   "cell_type": "code",
   "execution_count": 2,
   "metadata": {
    "id": "YZlq43M3i0HK"
   },
   "outputs": [],
   "source": [
    "%matplotlib inline"
   ]
  },
  {
   "cell_type": "markdown",
   "metadata": {
    "id": "AwMjm9uS5zBb"
   },
   "source": [
    "# Pennylane"
   ]
  },
  {
   "cell_type": "markdown",
   "metadata": {
    "id": "aYMRtPHN6O7p"
   },
   "source": [
    "## Quantum circuits"
   ]
  },
  {
   "cell_type": "markdown",
   "metadata": {
    "id": "S9NA6aeB6TRH"
   },
   "source": [
    "In PennyLane, quantum computations are represented as *quantum node* objects. A quantum node is used to declare the quantum circuit, and also ties the computation to a specific device that executes it. Quantum nodes can be easily created by using the `qnode` decorator.\n",
    "\n",
    "QNodes can interface with any of the supported numerical and machine learning libraries — `NumPy`, `PyTorch`, `TensorFlow`, and `JAX` — indicated by providing an optional `interface` argument when creating a QNode. Each interface allows the quantum circuit to integrate seamlessly with library-specific data structures (e.g., NumPy arrays, or Pytorch/TensorFlow tensors) and `optimizers`.\n",
    "\n",
    "By default, QNodes use the NumPy interface. \n",
    "\n"
   ]
  },
  {
   "cell_type": "markdown",
   "metadata": {
    "id": "cMeO5J_26yx9"
   },
   "source": [
    "### Quantum functions\n",
    "\n",
    "A quantum circuit is constructed as a special Python function, a *quantum circuit function*, or *quantum function* in short. For example:"
   ]
  },
  {
   "cell_type": "code",
   "execution_count": 3,
   "metadata": {
    "id": "WthR5KyM61bl"
   },
   "outputs": [],
   "source": [
    "import pennylane as qml\n",
    "import numpy as np\n",
    "\n",
    "def my_quantum_function(x, y):\n",
    "    qml.RZ(x, wires=0)\n",
    "    qml.CNOT(wires=[0,1])\n",
    "    qml.RY(y, wires=1)\n",
    "    return qml.expval(qml.PauliZ(1))"
   ]
  },
  {
   "cell_type": "markdown",
   "metadata": {
    "id": "7x5LkxxG7Kk5"
   },
   "source": [
    "Note\n",
    "\n",
    "PennyLane uses the term `wires` to refer to a quantum subsystem — for most devices, this corresponds to a qubit. For continuous-variable devices, a wire corresponds to a quantum mode."
   ]
  },
  {
   "cell_type": "markdown",
   "metadata": {
    "id": "rAWEcmUh7ab3"
   },
   "source": [
    "Quantum functions are a restricted subset of Python functions, adhering to the following constraints:\n",
    "\n",
    "- The quantum function accepts classical inputs, and consists of `quantum operations` or sequences of operations called `Templates`, using one instruction per line.\n",
    "\n",
    "- The function can contain classical flow control structures such as `for` loops, but in general they must not depend on the parameters of the function.\n",
    "\n",
    "- The quantum function must always return either a single or a tuple of *measured observable values*, by applying a `measurement function` to a `qubit observable` or `continuous-value observable`."
   ]
  },
  {
   "cell_type": "markdown",
   "metadata": {
    "id": "t7NHsSKT76OX"
   },
   "source": [
    "Note\n",
    "\n",
    "Measured observables **must** come after all other operations at the end of the circuit function as part of the return statement, and cannot appear in the middle."
   ]
  },
  {
   "cell_type": "markdown",
   "metadata": {
    "id": "DUaIMh577_hF"
   },
   "source": [
    "Note\n",
    "\n",
    "Quantum functions can only be evaluated on a device from within a QNode.\n",
    "\n",
    "\n"
   ]
  },
  {
   "cell_type": "markdown",
   "metadata": {
    "id": "spxrHS7x8NXY"
   },
   "source": [
    "### Defining a device\n",
    "\n",
    "To run — and later optimize — a quantum circuit, one needs to first specify a *computational device*.\n",
    "\n",
    "The device is an instance of the `Device` class, and can represent either a simulator or hardware device. They can be instantiated using the `device` loader."
   ]
  },
  {
   "cell_type": "code",
   "execution_count": 4,
   "metadata": {
    "id": "FukOsTmT61eE"
   },
   "outputs": [],
   "source": [
    "dev = qml.device('default.qubit', wires=2, shots=1000)"
   ]
  },
  {
   "cell_type": "markdown",
   "metadata": {
    "id": "VPKwLQFz8ibc"
   },
   "source": [
    "PennyLane offers some basic devices such as the `default.qubit` and `default.gaussian` simulators. Note that the choice of a device significantly determines the speed of your computation, as well as the available options that can be passed to the device loader.\n",
    "\n"
   ]
  },
  {
   "cell_type": "markdown",
   "metadata": {
    "id": "yToRsgZR8wfA"
   },
   "source": [
    "#### Device options"
   ]
  },
  {
   "cell_type": "markdown",
   "metadata": {
    "id": "ocDK_FI59A5K"
   },
   "source": [
    "When loading a device, the name of the device must always be specified. Further options can then be passed as keyword arguments; these options can differ based on the device. For the in-built `default.qubit` and `default.gaussian` devices, the options are:\n",
    "\n",
    "- `wires` (*int* or *Iterable*): Number of subsystems represented by the device, or iterable that contains unique labels for the subsystems as numbers (i.e., [-1, 0, 2]) and/or strings (['ancilla', 'q1', 'q2']).\n",
    "\n",
    "- `shots` (*None* or *int* or *list[int]*): How many times the circuit should be evaluated (or sampled) to estimate statistical quantities. On some supported simulator devices, `shots=None` indicates to compute measurement statistics *exactly*. Note that this argument can be temporarily overwritten when a QNode is called. For example, `my_qnode(shots=3)` will temporarily evaluate `my_qnode` using three shots.\n",
    "\n"
   ]
  },
  {
   "cell_type": "markdown",
   "metadata": {
    "id": "a6SYmiAY944K"
   },
   "source": [
    "#### Shot batches\n",
    "\n",
    "Batches of shots can be specified by passing a list, allowing measurement statistics to be course-grained with a single QNode evaluation.\n",
    "\n",
    "Consider"
   ]
  },
  {
   "cell_type": "code",
   "execution_count": 14,
   "metadata": {
    "id": "MbOlgF6t-BJH"
   },
   "outputs": [],
   "source": [
    "shots_list = [5, 10, 1000]\n",
    "dev = qml.device(\"default.qubit\", wires=2, shots=shots_list)"
   ]
  },
  {
   "cell_type": "markdown",
   "metadata": {
    "id": "ary54meF-Km2"
   },
   "source": [
    "When QNodes are executed on this device, a single execution of 1015 shots will be submitted. However, three sets of measurement statistics will be returned; using the first 5 shots, second set of 10 shots, and final 1000 shots, separately.\n",
    "\n",
    "For example:\n"
   ]
  },
  {
   "cell_type": "code",
   "execution_count": 15,
   "metadata": {
    "id": "vS1ogIGw8ey6"
   },
   "outputs": [],
   "source": [
    "@qml.qnode(dev)\n",
    "def circuit(x):\n",
    "  qml.RX(x, wires=0)\n",
    "  qml.CNOT(wires=[0, 1])\n",
    "  return qml.expval(qml.PauliZ(0) @ qml.PauliX(1)), qml.expval(qml.PauliZ(0))"
   ]
  },
  {
   "cell_type": "markdown",
   "metadata": {
    "id": "b-T5reuw-XHX"
   },
   "source": [
    "Executing this, we will get an output of size `(3, 2)`:"
   ]
  },
  {
   "cell_type": "code",
   "execution_count": 16,
   "metadata": {
    "colab": {
     "base_uri": "https://localhost:8080/"
    },
    "id": "w-2qW89g8e1Q",
    "outputId": "6b8b5b7e-3911-4838-f067-1b9fcdc90925"
   },
   "outputs": [
    {
     "data": {
      "text/plain": [
       "tensor([[-0.2  ,  1.   ],\n",
       "        [-0.4  ,  1.   ],\n",
       "        [ 0.022,  0.906]], requires_grad=True)"
      ]
     },
     "execution_count": 16,
     "metadata": {},
     "output_type": "execute_result"
    }
   ],
   "source": [
    "circuit(0.5)"
   ]
  },
  {
   "cell_type": "markdown",
   "metadata": {
    "id": "FYARW47Q-ii8"
   },
   "source": [
    "#### Custom wire labels\n",
    "\n",
    "When you create a device by passing an integer to the `wires` argument, the integer defines the *number* of *wires* that you can address by consecutive integer labels `0, 1, 2, ....`\n",
    "\n",
    "But you can define your own wire labels instead, which may be handy if wires have “meanings” like an ancilla or garbage register, if they are arranged in a non-linear fashion like a grid, or if there are wires that you want to skip because they do not work on a hardware device.\n",
    "\n",
    "This is done by passing an iterable of wire labels to the `wires` argument:"
   ]
  },
  {
   "cell_type": "code",
   "execution_count": 17,
   "metadata": {
    "id": "VKzg7RNh8e4t"
   },
   "outputs": [],
   "source": [
    "dev = qml.device('default.qubit', wires=['wire1', 'wire2'], shots=1000)"
   ]
  },
  {
   "cell_type": "markdown",
   "metadata": {
    "id": "xhrbu1t--7we"
   },
   "source": [
    "In the quantum function you can now use your own labels to address wires:"
   ]
  },
  {
   "cell_type": "code",
   "execution_count": 18,
   "metadata": {
    "id": "3AS7I5kw-c_B"
   },
   "outputs": [],
   "source": [
    "def my_quantum_function(x, y):\n",
    "    qml.RZ(x, wires='wire1')\n",
    "    qml.CNOT(wires=['wire1' ,'wire2'])\n",
    "    qml.RY(y, wires='wire2')\n",
    "    return qml.expval(qml.PauliZ('wire2'))"
   ]
  },
  {
   "cell_type": "markdown",
   "metadata": {
    "id": "cdghgYJu_BEO"
   },
   "source": [
    "Allowed wire labels can be of the following types:\n",
    "\n",
    "- *strings* like `wires=['a', 'd', 'b', ...]` or `wires=['ancilla', 'q1', 'q2', ...]`\n",
    "\n",
    "- *integers* like `wires=[0, 4, 7]` or even `wires=[-1, 0, 4]`\n",
    "\n",
    "- *floats* and other *numbers* like `wires=[1., 2., 4.]`\n",
    "\n",
    "- *mixed* types like `wires=['ancilla', -1, 0, 'q3']`"
   ]
  },
  {
   "cell_type": "markdown",
   "metadata": {
    "id": "AwaqWFVB_iQn"
   },
   "source": [
    "Note\n",
    "\n",
    "Some devices, such as hardware chips, may have a fixed number of wires. The iterable of labels passed to the device’s `wires` argument must match this expected number of wires.\n",
    "\n"
   ]
  },
  {
   "cell_type": "markdown",
   "metadata": {
    "id": "FA1RD1sz_s6G"
   },
   "source": [
    "### Creating a quantum node\n",
    "\n",
    "Together, a quantum function and a device are used to create a *quantum node* or `QNode` object, which wraps the quantum function and binds it to the device.\n",
    "\n",
    "A QNode can be explicitly created as follows:"
   ]
  },
  {
   "cell_type": "code",
   "execution_count": 19,
   "metadata": {
    "id": "jo-SsgDa-dA7"
   },
   "outputs": [],
   "source": [
    "circuit = qml.QNode(my_quantum_function, dev)"
   ]
  },
  {
   "cell_type": "markdown",
   "metadata": {
    "id": "n-iBM4jK__xM"
   },
   "source": [
    "The QNode can be used to compute the result of a quantum circuit as if it was a standard Python function. It takes the same arguments as the original quantum function:"
   ]
  },
  {
   "cell_type": "code",
   "execution_count": 20,
   "metadata": {
    "colab": {
     "base_uri": "https://localhost:8080/"
    },
    "id": "oAOKlzY3AET6",
    "outputId": "92b03c5a-3ce7-4fb0-a91c-c927231540b6"
   },
   "outputs": [
    {
     "data": {
      "text/plain": [
       "tensor(0.774, requires_grad=True)"
      ]
     },
     "execution_count": 20,
     "metadata": {},
     "output_type": "execute_result"
    }
   ],
   "source": [
    "circuit(np.pi/4, 0.7)"
   ]
  },
  {
   "cell_type": "markdown",
   "metadata": {
    "id": "vO-5GQEUAeXT"
   },
   "source": [
    "To view the quantum circuit after it has been executed, we can use the `draw()` method:"
   ]
  },
  {
   "cell_type": "code",
   "execution_count": 21,
   "metadata": {
    "colab": {
     "base_uri": "https://localhost:8080/"
    },
    "id": "RyHmcgHl-dDd",
    "outputId": "63595893-69ce-484b-f563-4df927e64ca4"
   },
   "outputs": [
    {
     "name": "stdout",
     "output_type": "stream",
     "text": [
      " wire1: ──RZ(0.785)──╭C───────────┤     \n",
      " wire2: ─────────────╰X──RY(0.7)──┤ ⟨Z⟩ \n",
      "\n"
     ]
    }
   ],
   "source": [
    "print(circuit.draw())"
   ]
  },
  {
   "cell_type": "markdown",
   "metadata": {
    "id": "EC1tLYPeAlwA"
   },
   "source": [
    "### The QNode decorator\n",
    "\n",
    "A more convenient — and in fact the recommended — way for creating QNodes is the provided `qnode` decorator. This decorator converts a Python function containing PennyLane quantum operations to a `QNode` circuit that will run on a quantum device."
   ]
  },
  {
   "cell_type": "markdown",
   "metadata": {
    "id": "cR4jxrgXAzxn"
   },
   "source": [
    "Note\n",
    "\n",
    "The decorator completely replaces the Python-based quantum function with a `QNode` of the same name — as such, the original function is no longer accessible."
   ]
  },
  {
   "cell_type": "markdown",
   "metadata": {
    "id": "j86JVbZ2A5xq"
   },
   "source": [
    "For example:"
   ]
  },
  {
   "cell_type": "code",
   "execution_count": 22,
   "metadata": {
    "id": "8TwxTPi--dG4"
   },
   "outputs": [],
   "source": [
    "dev = qml.device('default.qubit', wires=2)\n",
    "\n",
    "@qml.qnode(dev)\n",
    "def circuit(x):\n",
    "    qml.RZ(x, wires=0)\n",
    "    qml.CNOT(wires=[0,1])\n",
    "    qml.RY(x, wires=1)\n",
    "    return qml.expval(qml.PauliZ(1))\n",
    "\n",
    "result = circuit(0.543)"
   ]
  },
  {
   "cell_type": "code",
   "execution_count": 23,
   "metadata": {},
   "outputs": [
    {
     "data": {
      "text/plain": [
       "tensor(0.85616242, requires_grad=True)"
      ]
     },
     "execution_count": 23,
     "metadata": {},
     "output_type": "execute_result"
    }
   ],
   "source": [
    "result"
   ]
  },
  {
   "cell_type": "markdown",
   "metadata": {
    "id": "OsdtEhRGBDFL"
   },
   "source": [
    "### Collections of QNodes\n",
    "\n",
    "Sometimes you may need multiple QNodes that only differ in the measurement observable (like in VQE), or in the device they are run on (for example, if you benchmark different devices), or even the quantum circuit that is evaluated. While these QNodes can be defined manually “by hand”, PennyLane offers **QNode collections** as a convenient way to define and run families of QNodes.\n",
    "\n",
    "QNode collections are a sequence of QNodes that:\n",
    "\n",
    "1. Have the same function signature, and\n",
    "\n",
    "2. Can be evaluated independently (that is, the input of any QNode in the collection does not depend on the output of another).\n",
    "\n",
    "Consider the following two quantum nodes:"
   ]
  },
  {
   "cell_type": "code",
   "execution_count": 24,
   "metadata": {
    "id": "ZlnqYJDRAxrY"
   },
   "outputs": [],
   "source": [
    "dev1 = qml.device('default.qubit', wires=2)\n",
    "\n",
    "@qml.qnode(dev1)\n",
    "def x_rotations(params):\n",
    "    qml.RX(params[0], wires=0)\n",
    "    qml.RX(params[1], wires=1)\n",
    "    qml.CNOT(wires=[0, 1])\n",
    "    return qml.expval(qml.PauliZ(0))\n",
    "\n",
    "dev2 = qml.device('default.qubit', wires=2)\n",
    "\n",
    "@qml.qnode(dev2)\n",
    "def y_rotations(params):\n",
    "    qml.RY(params[0], wires=0)\n",
    "    qml.RY(params[1], wires=1)\n",
    "    qml.CNOT(wires=[0, 1])\n",
    "    return qml.expval(qml.Hadamard(0))"
   ]
  },
  {
   "cell_type": "markdown",
   "metadata": {
    "id": "9ycu-LuIB1jN"
   },
   "source": [
    "As the QNodes in the collection have the same signature, and we can can construct a `QNodeCollection` and therefore feed them the same parameters:"
   ]
  },
  {
   "cell_type": "code",
   "execution_count": 25,
   "metadata": {
    "colab": {
     "base_uri": "https://localhost:8080/"
    },
    "id": "wErFpC1TAxtc",
    "outputId": "06505829-d2af-4537-9eb7-f38748154786"
   },
   "outputs": [
    {
     "data": {
      "text/plain": [
       "2"
      ]
     },
     "execution_count": 25,
     "metadata": {},
     "output_type": "execute_result"
    }
   ],
   "source": [
    "qnodes = qml.QNodeCollection([x_rotations, y_rotations])\n",
    "len(qnodes)"
   ]
  },
  {
   "cell_type": "code",
   "execution_count": 26,
   "metadata": {
    "colab": {
     "base_uri": "https://localhost:8080/"
    },
    "id": "c55zMsy_BdEu",
    "outputId": "f6c3dec5-a0eb-4ac1-d9fa-d517640c4aa5"
   },
   "outputs": [
    {
     "data": {
      "text/plain": [
       "array([0.98006658, 0.70703636])"
      ]
     },
     "execution_count": 26,
     "metadata": {},
     "output_type": "execute_result"
    }
   ],
   "source": [
    "qnodes([0.2, 0.1])"
   ]
  },
  {
   "cell_type": "markdown",
   "metadata": {
    "id": "Jum6Bih5CHTA"
   },
   "source": [
    "PennyLane also provides some high-level tools for creating and evaluating QNode collections. For example, `map()` allows a single function of quantum operations (or `template`) to be mapped across multiple observables or devices.\n",
    "\n",
    "For example, consider the following quantum function ansatz:"
   ]
  },
  {
   "cell_type": "code",
   "execution_count": 27,
   "metadata": {
    "id": "Dt9E6QoFBdHG"
   },
   "outputs": [],
   "source": [
    "def my_ansatz(params, **kwargs):\n",
    "    qml.RX(params[0], wires=0)\n",
    "    qml.RX(params[1], wires=1)\n",
    "    qml.CNOT(wires=[0, 1])"
   ]
  },
  {
   "cell_type": "markdown",
   "metadata": {
    "id": "96YZHQA4CTsp"
   },
   "source": [
    "We can define a list of observables, and two devices:"
   ]
  },
  {
   "cell_type": "code",
   "execution_count": 28,
   "metadata": {
    "id": "PyHlCIsdBdKq"
   },
   "outputs": [],
   "source": [
    "obs_list = [qml.PauliX(0) @ qml.PauliZ(1), qml.PauliZ(0) @ qml.PauliX(1)]\n",
    "dev1 = qml.device('default.qubit', wires=2)\n",
    "dev2 = qml.device('default.qubit', wires=2)"
   ]
  },
  {
   "cell_type": "markdown",
   "metadata": {
    "id": "WL_6DzcSDkgK"
   },
   "source": [
    "Mapping the template across the observables and devices creates a `QNodeCollection`:"
   ]
  },
  {
   "cell_type": "code",
   "execution_count": 29,
   "metadata": {
    "colab": {
     "base_uri": "https://localhost:8080/"
    },
    "id": "3mw3NSMAAxxN",
    "outputId": "2465c675-6cbf-44b3-a73f-9b52c8ab918d"
   },
   "outputs": [
    {
     "data": {
      "text/plain": [
       "pennylane.collections.qnode_collection.QNodeCollection"
      ]
     },
     "execution_count": 29,
     "metadata": {},
     "output_type": "execute_result"
    }
   ],
   "source": [
    "qnodes = qml.map(my_ansatz, obs_list, [dev1, dev2], measure=\"expval\")\n",
    "type(qnodes)"
   ]
  },
  {
   "cell_type": "code",
   "execution_count": 30,
   "metadata": {
    "colab": {
     "base_uri": "https://localhost:8080/"
    },
    "id": "-vHByYGuFlzH",
    "outputId": "618077c9-663b-4b83-ef1c-21d4b78c8c9e"
   },
   "outputs": [
    {
     "data": {
      "text/plain": [
       "array([-0.06154835,  0.        ])"
      ]
     },
     "execution_count": 30,
     "metadata": {},
     "output_type": "execute_result"
    }
   ],
   "source": [
    "params = [0.54, 0.12]\n",
    "qnodes(params)"
   ]
  },
  {
   "cell_type": "markdown",
   "metadata": {
    "id": "H2m1NwJwJJ8a"
   },
   "source": [
    "Functions are available to process QNode collections, including `dot()`, `sum()`, and `apply()`:"
   ]
  },
  {
   "cell_type": "code",
   "execution_count": 41,
   "metadata": {
    "colab": {
     "base_uri": "https://localhost:8080/"
    },
    "id": "yoO4PzBlJJal",
    "outputId": "914630e8-d605-4ca3-a50a-43e84f465726"
   },
   "outputs": [
    {
     "data": {
      "text/plain": [
       "-0.061548354407471695"
      ]
     },
     "execution_count": 41,
     "metadata": {},
     "output_type": "execute_result"
    }
   ],
   "source": [
    "cost_fn = qml.sum(qnodes)\n",
    "cost_fn(params)"
   ]
  },
  {
   "cell_type": "markdown",
   "metadata": {
    "id": "9jruuW6AJdYb"
   },
   "source": [
    "Note\n",
    "\n",
    "QNode collections support an experimental parallel execution mode. See the `QNodeCollection` documentation for more details.\n",
    "\n"
   ]
  },
  {
   "cell_type": "markdown",
   "metadata": {
    "id": "5tdFgQyGSbee"
   },
   "source": [
    "## Quantum operations"
   ]
  },
  {
   "cell_type": "markdown",
   "metadata": {
    "id": "5k19pKZ-SiuF"
   },
   "source": [
    "PennyLane supports a wide variety of quantum operations—such as gates, noisy channels, state preparations and measurements. These operations can be used exclusively in quantum functions, like shown in the following example:"
   ]
  },
  {
   "cell_type": "code",
   "execution_count": 42,
   "metadata": {
    "id": "kmqKmWib61hi"
   },
   "outputs": [],
   "source": [
    "import pennylane as qml\n",
    "\n",
    "def my_quantum_function(x, y):\n",
    "    qml.RZ(x, wires=0)\n",
    "    qml.CNOT(wires=[0,1])\n",
    "    qml.RY(y, wires=1)\n",
    "    qml.T(wires=0).inv()\n",
    "    qml.AmplitudeDamping(0.1, wires=0)\n",
    "    return qml.expval(qml.PauliZ(1))"
   ]
  },
  {
   "cell_type": "markdown",
   "metadata": {
    "id": "1t4mYzyLS7Gn"
   },
   "source": [
    "This quantum function uses the `RZ`, `CNOT`, `RY` gates, the `AmplitudeDamping` noisy channel as well as the `PauliZ` observable.\n",
    "\n",
    "Note that PennyLane supports inverting quantum operations via the `Op(param, wires).inv()` method. Additionally, PennyLane provides a function `qml.inv` that can be used to invert sequences of operations and Templates.\n",
    "\n",
    "A list of all quantum operations supported by PennyLane can be foung at https://pennylane.readthedocs.io/en/stable/introduction/operations.html.\n",
    "\n"
   ]
  },
  {
   "cell_type": "markdown",
   "metadata": {
    "id": "sn8DeuUrUGaX"
   },
   "source": [
    "## Measurements"
   ]
  },
  {
   "cell_type": "markdown",
   "metadata": {
    "id": "3jp6Y-YJUI2X"
   },
   "source": [
    "PennyLane can extract different types of measurement results from quantum devices: the expectation of an observable, its variance, samples of a single measurement, or computational basis state probabilities.\n",
    "\n",
    "For example, the following circuit returns the expectation value of the `PauliZ` observable on wire 1:"
   ]
  },
  {
   "cell_type": "code",
   "execution_count": 43,
   "metadata": {
    "id": "YvSNqUrXJktb"
   },
   "outputs": [],
   "source": [
    "def my_quantum_function(x, y):\n",
    "    qml.RZ(x, wires=0)\n",
    "    qml.CNOT(wires=[0, 1])\n",
    "    qml.RY(y, wires=1)\n",
    "    return qml.expval(qml.PauliZ(1))"
   ]
  },
  {
   "cell_type": "markdown",
   "metadata": {
    "id": "wGPsF3-9UY3T"
   },
   "source": [
    "The available measurement functions are\n",
    "\n",
    "- `expval`(op) - Expectation value of the supplied observable.\n",
    "\n",
    "- `sample`(op) - Sample from the supplied observable, with the number of shots determined from the `dev.shots` attribute of the corresponding device.\n",
    "\n",
    "- `var`(op) - Variance of the supplied observable.\n",
    "\n",
    "- `probs`(wires) - Probability of each computational basis state.\n",
    "\n",
    "- `state`() - Quantum state in the computational basis.\n",
    "\n",
    "- `density_matrix`(wires) - Quantum density matrix in the computational basis."
   ]
  },
  {
   "cell_type": "markdown",
   "metadata": {
    "id": "EwhQzTS5U4Lz"
   },
   "source": [
    "Note\n",
    "\n",
    "All measurement functions support analytic differentiation, with the exception of `sample()`, as it returns stochastic results.\n",
    "\n"
   ]
  },
  {
   "cell_type": "markdown",
   "metadata": {
    "id": "Im49ADvwVMde"
   },
   "source": [
    "### Combined measurements"
   ]
  },
  {
   "cell_type": "markdown",
   "metadata": {
    "id": "lbZzyKyJVOIC"
   },
   "source": [
    "Quantum functions can also return combined measurements of multiple observables, as long as each wire is not measured more than once:"
   ]
  },
  {
   "cell_type": "code",
   "execution_count": 44,
   "metadata": {
    "id": "9dJjLVZSJkvE"
   },
   "outputs": [],
   "source": [
    "def my_quantum_function(x, y):\n",
    "    qml.RZ(x, wires=0)\n",
    "    qml.CNOT(wires=[0, 1])\n",
    "    qml.RY(y, wires=1)\n",
    "    return qml.expval(qml.PauliZ(1)), qml.var(qml.PauliX(0))"
   ]
  },
  {
   "cell_type": "markdown",
   "metadata": {
    "id": "nUryMyEaVvD-"
   },
   "source": [
    "You can also use list comprehensions, and other common Python patterns:"
   ]
  },
  {
   "cell_type": "code",
   "execution_count": 45,
   "metadata": {
    "id": "Cf8KOBtBJkx1"
   },
   "outputs": [],
   "source": [
    "def my_quantum_function(x, y):\n",
    "    qml.RZ(x, wires=0)\n",
    "    qml.CNOT(wires=[0, 1])\n",
    "    qml.RY(y, wires=1)\n",
    "    return [qml.expval(qml.PauliZ(i)) for i in range(2)]"
   ]
  },
  {
   "cell_type": "markdown",
   "metadata": {
    "id": "k3a-l4gCWBD9"
   },
   "source": [
    "As a full example of combined measurements, let us look at a Bell state $\\frac{|00\\rangle + |11\\rangle}{\\sqrt{2}}$\n",
    ", prepared by a `Hadamard` and `CNOT` gate."
   ]
  },
  {
   "cell_type": "code",
   "execution_count": 50,
   "metadata": {
    "id": "b5WWd-CuJkzG"
   },
   "outputs": [],
   "source": [
    "import pennylane as qml\n",
    "from pennylane import numpy as np\n",
    "\n",
    "dev = qml.device(\"default.qubit\", wires=2, shots=1000)\n",
    "\n",
    "@qml.qnode(dev)\n",
    "def circuit():\n",
    "    qml.Hadamard(wires=0)\n",
    "    qml.CNOT(wires=[0, 1])\n",
    "    return qml.sample(qml.PauliZ(0)), qml.sample(qml.PauliZ(1))"
   ]
  },
  {
   "cell_type": "markdown",
   "metadata": {
    "id": "am8FWVf9Wlct"
   },
   "source": [
    "The combined PauliZ-measurement of the first and second qubit returns a list of two lists, each containing the measurement results of the respective qubit. As a default, `sample`() returns 1000 samples per observable."
   ]
  },
  {
   "cell_type": "code",
   "execution_count": 51,
   "metadata": {
    "colab": {
     "base_uri": "https://localhost:8080/"
    },
    "id": "-8XTSzGcJk3b",
    "outputId": "4bde3a69-9cff-4146-fcda-42f75db7afc7"
   },
   "outputs": [
    {
     "data": {
      "text/plain": [
       "(2, 1000)"
      ]
     },
     "execution_count": 51,
     "metadata": {},
     "output_type": "execute_result"
    }
   ],
   "source": [
    "result = circuit()\n",
    "result.shape"
   ]
  },
  {
   "cell_type": "code",
   "execution_count": 52,
   "metadata": {
    "colab": {
     "base_uri": "https://localhost:8080/"
    },
    "id": "hgpmwz7bjnzP",
    "outputId": "6b8b1615-a86b-40c6-ccb8-11e0426b9a16"
   },
   "outputs": [
    {
     "name": "stdout",
     "output_type": "stream",
     "text": [
      " 0: ──H──╭C──┤ Sample[Z] \n",
      " 1: ─────╰X──┤ Sample[Z] \n",
      "\n"
     ]
    }
   ],
   "source": [
    "print(circuit.draw())"
   ]
  },
  {
   "cell_type": "markdown",
   "metadata": {
    "id": "KtWFBItUW_Py"
   },
   "source": [
    "Since the two qubits are maximally entangled, the measurement results always coincide, and the lists are therefore equal:"
   ]
  },
  {
   "cell_type": "code",
   "execution_count": 53,
   "metadata": {
    "colab": {
     "base_uri": "https://localhost:8080/"
    },
    "id": "2bkll9BfWulm",
    "outputId": "06aaa8ee-a9ce-47ba-8d61-91a59236ca5d"
   },
   "outputs": [
    {
     "data": {
      "text/plain": [
       "True"
      ]
     },
     "execution_count": 53,
     "metadata": {},
     "output_type": "execute_result"
    }
   ],
   "source": [
    "np.all(result[0] == result[1])"
   ]
  },
  {
   "cell_type": "markdown",
   "metadata": {
    "id": "30MvSs3iXNkp"
   },
   "source": [
    "### Tensor observables"
   ]
  },
  {
   "cell_type": "markdown",
   "metadata": {
    "id": "IB5wlYNbXPyS"
   },
   "source": [
    "PennyLane supports measuring the tensor product of observables, by using the `@` notation. For example, to measure the expectation value of $Z ⊗ I ⊗ X$:"
   ]
  },
  {
   "cell_type": "code",
   "execution_count": 55,
   "metadata": {
    "id": "eGHvxe2IXEhu"
   },
   "outputs": [],
   "source": [
    "def my_quantum_function(x, y):\n",
    "    qml.RZ(x, wires=0)\n",
    "    qml.CNOT(wires=[0, 1])\n",
    "    qml.RY(y, wires=1)\n",
    "    qml.CNOT(wires=[0, 2])\n",
    "    return qml.expval(qml.PauliZ(0) @ qml.PauliX(2))"
   ]
  },
  {
   "cell_type": "markdown",
   "metadata": {
    "id": "_URWgvr-X1ET"
   },
   "source": [
    "Note that we don’t need to declare the identity observable on wire 1; this is implicitly assumed.\n",
    "\n",
    "The tensor observable notation can be used inside all measurement functions that accept observables as arguments, including `expval`(), `var`(), and `sample`().\n",
    "\n"
   ]
  },
  {
   "cell_type": "markdown",
   "metadata": {
    "id": "NErkY1dkX6ZI"
   },
   "source": [
    "### Probability"
   ]
  },
  {
   "cell_type": "markdown",
   "metadata": {
    "id": "VzHd1OnyX7nl"
   },
   "source": [
    "You can also train QNodes on computational basis probabilities, by using the `probs`() measurement function. Unlike other measurement functions, **this does not accept observables**. Instead, it will return a flat array or tensor containing the (marginal) probabilities of each quantum state."
   ]
  },
  {
   "cell_type": "code",
   "execution_count": 56,
   "metadata": {
    "id": "A58_L9i4XmNa"
   },
   "outputs": [],
   "source": [
    "def my_quantum_function(x, y):\n",
    "    qml.RZ(x, wires=0)\n",
    "    qml.CNOT(wires=[0, 1])\n",
    "    qml.RY(y, wires=1)\n",
    "    qml.CNOT(wires=[0, 2])\n",
    "    return qml.probs(wires=[0, 1])"
   ]
  },
  {
   "cell_type": "markdown",
   "metadata": {
    "id": "IPM5MUvSYLDr"
   },
   "source": [
    "For example:"
   ]
  },
  {
   "cell_type": "code",
   "execution_count": 57,
   "metadata": {
    "colab": {
     "base_uri": "https://localhost:8080/"
    },
    "id": "30vkUlC5YHy-",
    "outputId": "4a3b5b82-cc06-4791-8d81-89ae6556c9ea"
   },
   "outputs": [
    {
     "data": {
      "text/plain": [
       "tensor([0.99750208, 0.00249792, 0.        , 0.        ], requires_grad=True)"
      ]
     },
     "execution_count": 57,
     "metadata": {},
     "output_type": "execute_result"
    }
   ],
   "source": [
    "dev = qml.device(\"default.qubit\", wires=3)\n",
    "qnode = qml.QNode(my_quantum_function, dev)\n",
    "qnode(0.56, 0.1)"
   ]
  },
  {
   "cell_type": "markdown",
   "metadata": {
    "id": "6PPsboWxYf1T"
   },
   "source": [
    "The returned probability array uses lexicographical ordering, so corresponds to a 99.75% probability of measuring state $|00\\rangle$, and a 0.25% probability of measuring state $|01\\rangle$.\n",
    "\n"
   ]
  },
  {
   "cell_type": "markdown",
   "metadata": {
    "id": "lueT5XaFYzvZ"
   },
   "source": [
    "### Changing the number of shot"
   ]
  },
  {
   "cell_type": "markdown",
   "metadata": {
    "id": "yEetBvzVY1A7"
   },
   "source": [
    "For hardware devices where the number of shots determines the accuracy of the expectation value and variance, as well as the number of samples returned, it can sometimes be convenient to execute the same QNode with differing number of shots.\n",
    "\n",
    "For simulators like `default.qubit`, finite shots will be simulated if we set `shots` to a positive integer.\n",
    "\n",
    "The shot number can be changed on the device itself, or temporarily altered by the `shots` keyword argument when executing the QNode:"
   ]
  },
  {
   "cell_type": "code",
   "execution_count": 58,
   "metadata": {
    "id": "FvYd91SoYVT-"
   },
   "outputs": [],
   "source": [
    "dev = qml.device(\"default.qubit\", wires=1, shots=10)\n",
    "\n",
    "@qml.qnode(dev)\n",
    "def circuit(x, y):\n",
    "    qml.RX(x, wires=0)\n",
    "    qml.RY(y, wires=0)\n",
    "    return qml.expval(qml.PauliZ(0))\n",
    "\n",
    "# execute the QNode using 10 shots\n",
    "result = circuit(0.54, 0.1)\n",
    "\n",
    "# execute the QNode again, now using 1 shot\n",
    "result = circuit(0.54, 0.1, shots=1)"
   ]
  },
  {
   "cell_type": "markdown",
   "metadata": {
    "id": "nMXILgeKj2D0"
   },
   "source": [
    "With an increasing number of shots, the average over measurement samples converges to the exact expectation of an observable. Consider the following circuit:"
   ]
  },
  {
   "cell_type": "code",
   "execution_count": 59,
   "metadata": {
    "id": "6tB6JGT-ZP4W"
   },
   "outputs": [],
   "source": [
    "# fix seed to make results reproducable\n",
    "np.random.seed(1)\n",
    "\n",
    "dev = qml.device(\"default.qubit\", wires=1)\n",
    "\n",
    "@qml.qnode(dev)\n",
    "def circuit():\n",
    "    qml.Hadamard(wires=0)\n",
    "    return qml.expval(qml.PauliZ(0))"
   ]
  },
  {
   "cell_type": "markdown",
   "metadata": {
    "id": "HG7CzMzFkIRG"
   },
   "source": [
    "Running the simulator with `shots=None` returns the exact expectation."
   ]
  },
  {
   "cell_type": "code",
   "execution_count": 60,
   "metadata": {
    "colab": {
     "base_uri": "https://localhost:8080/"
    },
    "id": "94fZ-3ylj5r0",
    "outputId": "3c3f9387-e27a-4117-8a29-77ce77acaad2"
   },
   "outputs": [
    {
     "data": {
      "text/plain": [
       "tensor(0., requires_grad=True)"
      ]
     },
     "execution_count": 60,
     "metadata": {},
     "output_type": "execute_result"
    }
   ],
   "source": [
    "circuit(shots=None)"
   ]
  },
  {
   "cell_type": "markdown",
   "metadata": {
    "id": "fSGUfYX7kL5U"
   },
   "source": [
    "Now we set the device to return stochastic results, and increase the number of shots starting from 10."
   ]
  },
  {
   "cell_type": "code",
   "execution_count": 61,
   "metadata": {
    "colab": {
     "base_uri": "https://localhost:8080/"
    },
    "id": "ZUAiSSkfkCRh",
    "outputId": "21c21e95-3c84-4300-a437-9e7e46234215"
   },
   "outputs": [
    {
     "data": {
      "text/plain": [
       "tensor(0.6, requires_grad=True)"
      ]
     },
     "execution_count": 61,
     "metadata": {},
     "output_type": "execute_result"
    }
   ],
   "source": [
    "circuit(shots=10)"
   ]
  },
  {
   "cell_type": "code",
   "execution_count": 62,
   "metadata": {
    "colab": {
     "base_uri": "https://localhost:8080/"
    },
    "id": "96DtcoickNH5",
    "outputId": "6fc47aa2-3cea-4b2d-8f93-31d11b742efe"
   },
   "outputs": [
    {
     "data": {
      "text/plain": [
       "tensor(-0.016, requires_grad=True)"
      ]
     },
     "execution_count": 62,
     "metadata": {},
     "output_type": "execute_result"
    }
   ],
   "source": [
    "circuit(shots=1000)"
   ]
  },
  {
   "cell_type": "code",
   "execution_count": 63,
   "metadata": {
    "colab": {
     "base_uri": "https://localhost:8080/"
    },
    "id": "Tyu9NJ__kPcu",
    "outputId": "99d8d811-2ffb-44b8-f5d2-2be6ce388b00"
   },
   "outputs": [
    {
     "data": {
      "text/plain": [
       "tensor(0.00046, requires_grad=True)"
      ]
     },
     "execution_count": 63,
     "metadata": {},
     "output_type": "execute_result"
    }
   ],
   "source": [
    "circuit(shots=100000)"
   ]
  },
  {
   "cell_type": "markdown",
   "metadata": {
    "id": "-qhpEQp8kTkR"
   },
   "source": [
    "The result converges to the exact expectation."
   ]
  },
  {
   "cell_type": "markdown",
   "metadata": {
    "id": "XJab5NzTokj6"
   },
   "source": [
    "## Templates"
   ]
  },
  {
   "cell_type": "markdown",
   "metadata": {
    "id": "3PsUtWclow0U"
   },
   "source": [
    "PennyLane provides a growing library of pre-coded templates of common variational circuit architectures that can be used to easily build, evaluate, and train more complex models. In the literature, such architectures are commonly known as an *ansatz*."
   ]
  },
  {
   "cell_type": "markdown",
   "metadata": {
    "id": "KaOwG9KQo5qn"
   },
   "source": [
    "PennyLane conceptually distinguishes different types of templates, such as `Embeddings`, `Layers`, `State preparations` and `Subroutines`.\n",
    "\n",
    "Most templates are complemented by functions that provide an array of random `initial parameters`.\n",
    "\n",
    "Full gallery of built-in templates provided by PennyLane can be found at https://pennylane.readthedocs.io/en/stable/introduction/templates.html\n",
    "\n"
   ]
  }
 ],
 "metadata": {
  "colab": {
   "collapsed_sections": [],
   "name": "pennylane.ipynb",
   "provenance": []
  },
  "kernelspec": {
   "display_name": "Python 3",
   "language": "python",
   "name": "python3"
  },
  "language_info": {
   "codemirror_mode": {
    "name": "ipython",
    "version": 3
   },
   "file_extension": ".py",
   "mimetype": "text/x-python",
   "name": "python",
   "nbconvert_exporter": "python",
   "pygments_lexer": "ipython3",
   "version": "3.8.8"
  }
 },
 "nbformat": 4,
 "nbformat_minor": 1
}
