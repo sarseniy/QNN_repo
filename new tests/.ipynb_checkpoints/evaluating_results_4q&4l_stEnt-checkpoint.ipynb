{
 "cells": [
  {
   "cell_type": "markdown",
   "id": "9be7031d",
   "metadata": {},
   "source": [
    "# Collecting data"
   ]
  },
  {
   "cell_type": "code",
   "execution_count": 11,
   "id": "c0761410",
   "metadata": {},
   "outputs": [
    {
     "name": "stdout",
     "output_type": "stream",
     "text": [
      "Using cuda device\n"
     ]
    }
   ],
   "source": [
    "import torch\n",
    "import pennylane as qml\n",
    "device = \"cuda\" if torch.cuda.is_available() else \"cpu\"\n",
    "print(\"Using {} device\".format(device))"
   ]
  },
  {
   "cell_type": "code",
   "execution_count": 12,
   "id": "70971de4",
   "metadata": {},
   "outputs": [],
   "source": [
    "from torchvision import datasets\n",
    "from torchvision.transforms import ToTensor\n",
    "\n",
    "train_data = datasets.MNIST(\n",
    "    root = 'data',\n",
    "    train = True,                         \n",
    "    transform = ToTensor(), \n",
    "    download = True,            \n",
    ")\n",
    "test_data = datasets.MNIST(\n",
    "    root = 'data', \n",
    "    train = False, \n",
    "    transform = ToTensor()\n",
    ")"
   ]
  },
  {
   "cell_type": "code",
   "execution_count": 13,
   "id": "3f780337",
   "metadata": {},
   "outputs": [],
   "source": [
    "from torch.utils.data import DataLoader\n",
    "\n",
    "loaders = {\n",
    "    'train' : torch.utils.data.DataLoader(train_data, \n",
    "                                          batch_size=100, \n",
    "                                          shuffle=True, \n",
    "                                          num_workers=1,\n",
    "                                          pin_memory=True),\n",
    "    \n",
    "    'test'  : torch.utils.data.DataLoader(test_data, \n",
    "                                          batch_size=100, \n",
    "                                          shuffle=True, \n",
    "                                          num_workers=1,\n",
    "                                          pin_memory=True),\n",
    "}"
   ]
  },
  {
   "cell_type": "code",
   "execution_count": 14,
   "id": "73b7b785",
   "metadata": {},
   "outputs": [],
   "source": [
    "def test(model):\n",
    "    # Test the model\n",
    "    model.eval()\n",
    "    with torch.no_grad():\n",
    "        accuracy = 0\n",
    "        for i, (images, labels) in enumerate(loaders['test']):\n",
    "            print(i)\n",
    "            images, labels = images.to(device), labels.to(device)\n",
    "            test_output = model(images)\n",
    "            pred_y = torch.max(test_output, 1)[1]\n",
    "            accuracy += (pred_y == labels).sum().item() \n",
    "        accuracy /= len(loaders['test'].dataset)\n",
    "        print('Test Accuracy of the model on the 10000 test images: {:.2f} %'.format(accuracy*100.0))"
   ]
  },
  {
   "cell_type": "markdown",
   "id": "7317ea89",
   "metadata": {},
   "source": [
    "# Loading models"
   ]
  },
  {
   "cell_type": "markdown",
   "id": "85b8d057",
   "metadata": {},
   "source": [
    "### 2 qubits"
   ]
  },
  {
   "cell_type": "markdown",
   "id": "8a73dae6",
   "metadata": {},
   "source": [
    "One circuit consisting of two qubits"
   ]
  },
  {
   "cell_type": "code",
   "execution_count": 15,
   "id": "08356f0c",
   "metadata": {},
   "outputs": [],
   "source": [
    "n_qubits = 5\n",
    "dev = qml.device(\"default.qubit\", wires=n_qubits)\n",
    "\n",
    "@qml.qnode(dev, interface=\"torch\")\n",
    "def qnode(inputs, weights):\n",
    "    qml.templates.AngleEmbedding(features=inputs, wires=range(n_qubits))\n",
    "    \n",
    "    qml.templates.StronglyEntanglingLayers(weights, wires=range(n_qubits))\n",
    "    \n",
    "    return [qml.expval(qml.PauliY(wires=i)) for i in range(n_qubits)]"
   ]
  },
  {
   "cell_type": "code",
   "execution_count": 16,
   "id": "27cd1261",
   "metadata": {},
   "outputs": [],
   "source": [
    "n_layers = 3\n",
    "weight_shapes = {\"weights\": (n_layers, n_qubits, 3)}"
   ]
  },
  {
   "cell_type": "code",
   "execution_count": 17,
   "id": "0c308d43",
   "metadata": {},
   "outputs": [],
   "source": [
    "import torch.nn as nn\n",
    "\n",
    "class HybridNN(nn.Module):\n",
    "    def __init__(self):\n",
    "        super(HybridNN, self).__init__()\n",
    "        self.conv1 = nn.Sequential(         \n",
    "            nn.Conv2d(\n",
    "                in_channels=1,              \n",
    "                out_channels=16,            \n",
    "                kernel_size=5,              \n",
    "                stride=1,                   \n",
    "                padding=2,                  \n",
    "            ),                              \n",
    "            nn.ReLU(),                      \n",
    "            nn.MaxPool2d(kernel_size=2),    \n",
    "        )\n",
    "        self.conv2 = nn.Sequential(         \n",
    "            nn.Conv2d(\n",
    "                in_channels=16,              \n",
    "                out_channels=32,            \n",
    "                kernel_size=5,              \n",
    "                stride=1,                   \n",
    "                padding=2,    \n",
    "            ),     \n",
    "            nn.ReLU(),                      \n",
    "            nn.MaxPool2d(kernel_size=2),                \n",
    "        )\n",
    "        self.fc_1 = nn.Linear(32 * 7 * 7, 20)\n",
    "        \n",
    "        # LIST USAGE?\n",
    "        self.qlayer_1 = qml.qnn.TorchLayer(qnode, weight_shapes)\n",
    "        self.qlayer_2 = qml.qnn.TorchLayer(qnode, weight_shapes)\n",
    "        self.qlayer_3 = qml.qnn.TorchLayer(qnode, weight_shapes)\n",
    "        self.qlayer_4 = qml.qnn.TorchLayer(qnode, weight_shapes)\n",
    "        \n",
    "        self.qlayer_1.to(device)\n",
    "        self.qlayer_2.to(device)\n",
    "        self.qlayer_3.to(device)\n",
    "        self.qlayer_4.to(device)\n",
    "        \n",
    "        self.fc_2 = nn.Linear(20, 10)\n",
    "\n",
    "        \n",
    "    def forward(self, x):\n",
    "\n",
    "        x = self.conv1(x)\n",
    "\n",
    "        x = self.conv2(x)\n",
    "\n",
    "        # flatten the output of conv2 to (batch_size, 32 * 7 * 7)\n",
    "        x = x.view(x.size(0), -1) \n",
    "\n",
    "        x = self.fc_1(x)\n",
    "        #print('Before split')\n",
    "        x_1, x_2, x_3, x_4 = torch.split(x, 5, dim=1) # second argument is number of elements in one new tensor\n",
    "        #print('After split')\n",
    "        #x = torch.Tensor(0)\n",
    "        \n",
    "        x_1 = self.qlayer_1(x_1)\n",
    "        x_2 = self.qlayer_2(x_2)\n",
    "        x_3 = self.qlayer_3(x_3)\n",
    "        x_4 = self.qlayer_4(x_4)\n",
    "        \n",
    "        #print(x.device)\n",
    "        \n",
    "        x = torch.cat([x_1, x_2, x_3, x_4], axis=1)\n",
    "        x = x.to(device)\n",
    "        \n",
    "        logits = self.fc_2(x)\n",
    "        \n",
    "        return logits"
   ]
  },
  {
   "cell_type": "code",
   "execution_count": 20,
   "id": "63fd5752",
   "metadata": {},
   "outputs": [
    {
     "name": "stdout",
     "output_type": "stream",
     "text": [
      "HybridNN(\n",
      "  (conv1): Sequential(\n",
      "    (0): Conv2d(1, 16, kernel_size=(5, 5), stride=(1, 1), padding=(2, 2))\n",
      "    (1): ReLU()\n",
      "    (2): MaxPool2d(kernel_size=2, stride=2, padding=0, dilation=1, ceil_mode=False)\n",
      "  )\n",
      "  (conv2): Sequential(\n",
      "    (0): Conv2d(16, 32, kernel_size=(5, 5), stride=(1, 1), padding=(2, 2))\n",
      "    (1): ReLU()\n",
      "    (2): MaxPool2d(kernel_size=2, stride=2, padding=0, dilation=1, ceil_mode=False)\n",
      "  )\n",
      "  (fc_1): Linear(in_features=1568, out_features=20, bias=True)\n",
      "  (qlayer_1): <Quantum Torch Layer: func=qnode>\n",
      "  (qlayer_2): <Quantum Torch Layer: func=qnode>\n",
      "  (qlayer_3): <Quantum Torch Layer: func=qnode>\n",
      "  (qlayer_4): <Quantum Torch Layer: func=qnode>\n",
      "  (fc_2): Linear(in_features=20, out_features=10, bias=True)\n",
      ")\n"
     ]
    }
   ],
   "source": [
    "hnn = HybridNN()\n",
    "hnn = hnn.to(device)\n",
    "hnn.load_state_dict(torch.load('trained_model_20qubits_with_strong_entagling.pt'))\n",
    "hnn.eval()\n",
    "print(hnn)"
   ]
  },
  {
   "cell_type": "code",
   "execution_count": null,
   "id": "c7c91b83",
   "metadata": {
    "scrolled": false
   },
   "outputs": [
    {
     "name": "stdout",
     "output_type": "stream",
     "text": [
      "0\n",
      "1\n"
     ]
    }
   ],
   "source": [
    "test(hnn)"
   ]
  },
  {
   "cell_type": "code",
   "execution_count": null,
   "id": "c729c498",
   "metadata": {},
   "outputs": [],
   "source": [
    "sample = next(iter(loaders['test']))\n",
    "images, labels = sample\n",
    "actual_number = labels[:10].numpy()\n",
    "actual_number"
   ]
  },
  {
   "cell_type": "code",
   "execution_count": null,
   "id": "43b7adfe",
   "metadata": {},
   "outputs": [],
   "source": [
    "test_output = hnn(images[:10].to(device))\n",
    "pred_y = torch.max(test_output, 1)[1].cpu().numpy()\n",
    "print(f'Prediction number: {pred_y}')\n",
    "print(f'Actual number: {actual_number}')"
   ]
  },
  {
   "cell_type": "code",
   "execution_count": null,
   "id": "75542775",
   "metadata": {},
   "outputs": [],
   "source": []
  }
 ],
 "metadata": {
  "kernelspec": {
   "display_name": "Python 3",
   "language": "python",
   "name": "python3"
  },
  "language_info": {
   "codemirror_mode": {
    "name": "ipython",
    "version": 3
   },
   "file_extension": ".py",
   "mimetype": "text/x-python",
   "name": "python",
   "nbconvert_exporter": "python",
   "pygments_lexer": "ipython3",
   "version": "3.8.8"
  }
 },
 "nbformat": 4,
 "nbformat_minor": 5
}
