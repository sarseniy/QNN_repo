{
 "cells": [
  {
   "cell_type": "code",
   "execution_count": 4,
   "metadata": {
    "colab": {
     "base_uri": "https://localhost:8080/"
    },
    "id": "LYv7EqeQlH-B",
    "outputId": "7cfb0618-8140-4c3b-e253-c8c2fa08d7e9"
   },
   "outputs": [
    {
     "name": "stdout",
     "output_type": "stream",
     "text": [
      "Requirement already satisfied: pennylane in c:\\programdata\\anaconda3\\lib\\site-packages (0.18.0)\n",
      "Requirement already satisfied: numpy in c:\\programdata\\anaconda3\\lib\\site-packages (from pennylane) (1.20.1)\n",
      "Requirement already satisfied: cachetools in c:\\programdata\\anaconda3\\lib\\site-packages (from pennylane) (4.2.4)\n",
      "Requirement already satisfied: appdirs in c:\\programdata\\anaconda3\\lib\\site-packages (from pennylane) (1.4.4)\n",
      "Requirement already satisfied: semantic-version==2.6 in c:\\programdata\\anaconda3\\lib\\site-packages (from pennylane) (2.6.0)\n",
      "Requirement already satisfied: autograd in c:\\programdata\\anaconda3\\lib\\site-packages (from pennylane) (1.3)\n",
      "Requirement already satisfied: scipy in c:\\programdata\\anaconda3\\lib\\site-packages (from pennylane) (1.6.2)\n",
      "Requirement already satisfied: autoray in c:\\programdata\\anaconda3\\lib\\site-packages (from pennylane) (0.2.5)\n",
      "Requirement already satisfied: pennylane-lightning>=0.18 in c:\\programdata\\anaconda3\\lib\\site-packages (from pennylane) (0.18.0)\n",
      "Requirement already satisfied: networkx in c:\\programdata\\anaconda3\\lib\\site-packages (from pennylane) (2.5)\n",
      "Requirement already satisfied: toml in c:\\programdata\\anaconda3\\lib\\site-packages (from pennylane) (0.10.2)\n",
      "Requirement already satisfied: future>=0.15.2 in c:\\programdata\\anaconda3\\lib\\site-packages (from autograd->pennylane) (0.18.2)\n",
      "Requirement already satisfied: decorator>=4.3.0 in c:\\programdata\\anaconda3\\lib\\site-packages (from networkx->pennylane) (5.0.6)\n"
     ]
    }
   ],
   "source": [
    "# install the latest released version of PennyLane\n",
    "!pip install pennylane --upgrade"
   ]
  },
  {
   "cell_type": "code",
   "execution_count": 5,
   "metadata": {
    "id": "YZlq43M3i0HK"
   },
   "outputs": [],
   "source": [
    "%matplotlib inline"
   ]
  },
  {
   "cell_type": "markdown",
   "metadata": {
    "id": "IV5H7kB0rSYu"
   },
   "source": [
    "# QML with Pennylane and PyTorch"
   ]
  },
  {
   "cell_type": "markdown",
   "metadata": {
    "id": "jx27VU1xjKTw"
   },
   "source": [
    "## Turning quantum nodes into Torch Layers\n"
   ]
  },
  {
   "cell_type": "markdown",
   "metadata": {
    "id": "qRSel0JXi0HQ"
   },
   "source": [
    "Creating neural networks in PyTorch is easy\n",
    "using the `nn.Module`. Models\n",
    "are constructed from elementary *layers* and can be trained using the\n",
    "PyTorch API. For example, the following code defines a two-layer network\n",
    "that could be used for binary classification:\n"
   ]
  },
  {
   "cell_type": "code",
   "execution_count": 1,
   "metadata": {
    "id": "2zf7CGUdi0HR"
   },
   "outputs": [],
   "source": [
    "import torch\n",
    "\n",
    "layer_1 = torch.nn.Linear(2, 2)\n",
    "layer_2 = torch.nn.Linear(2, 2)\n",
    "softmax = torch.nn.Softmax(dim=1)\n",
    "\n",
    "layers = [layer_1, layer_2, softmax]\n",
    "model = torch.nn.Sequential(*layers)"
   ]
  },
  {
   "cell_type": "markdown",
   "metadata": {
    "id": "5k53ofmhi0HS"
   },
   "source": [
    "**What if we want to add a quantum layer to our model?** This is\n",
    "possible in PennyLane: `QNodes` can be converted into `torch.nn` layers and combined with the wide range of built-in classical `layers` to create truly hybrid models. This tutorial will guide you through a\n",
    "simple example to show you how it's done!"
   ]
  },
  {
   "cell_type": "markdown",
   "metadata": {
    "id": "PBJQnsWbj9qH"
   },
   "source": [
    "## Fixing the dataset and problem\n",
    "\n",
    "Let us begin by choosing a simple dataset and problem to allow us to\n",
    "focus on how the hybrid model is constructed. Our objective is to\n",
    "classify points generated from scikit-learn's binary-class\n",
    "`make_moons()` dataset:\n"
   ]
  },
  {
   "cell_type": "code",
   "execution_count": 2,
   "metadata": {
    "colab": {
     "base_uri": "https://localhost:8080/",
     "height": 248
    },
    "id": "XLO_XRTYi0HS",
    "outputId": "a14a300c-b4c0-423b-a3dd-dbae58b576f7"
   },
   "outputs": [
    {
     "data": {
      "image/png": "[encoded data removed]",
      "text/plain": [
       "<Figure size 432x288 with 1 Axes>"
      ]
     },
     "metadata": {
      "needs_background": "light"
     },
     "output_type": "display_data"
    }
   ],
   "source": [
    "import matplotlib.pyplot as plt\n",
    "import numpy as np\n",
    "from sklearn.datasets import make_moons\n",
    "\n",
    "# Set random seeds\n",
    "torch.manual_seed(42)\n",
    "np.random.seed(42)\n",
    "\n",
    "X, y = make_moons(n_samples=200, noise=0.1)\n",
    "y_ = torch.unsqueeze(torch.tensor(y), 1)  # used for one-hot encoded labels\n",
    "y_hot = torch.scatter(torch.zeros((200, 2)), 1, y_, 1)\n",
    "\n",
    "c = [\"#1f77b4\" if y_ == 0 else \"#ff7f0e\" for y_ in y]  # colours for each class\n",
    "plt.axis(\"off\")\n",
    "plt.scatter(X[:, 0], X[:, 1], c=c)\n",
    "plt.show()"
   ]
  },
  {
   "cell_type": "markdown",
   "metadata": {
    "id": "lKkHV2Xki0HT"
   },
   "source": [
    "## Defining a QNode\n",
    "\n",
    "Our next step is to define the QNode that we want to interface with\n",
    "`torch.nn`. Any combination of device, operations and measurements that\n",
    "is valid in PennyLane can be used to compose the QNode. However, the\n",
    "QNode arguments must satisfy additional conditions including having an argument\n",
    "called `inputs`. All other arguments must be arrays or tensors and are\n",
    "treated as trainable weights in the model. We fix a two-qubit QNode\n",
    "using the `default.qubit` simulator and operations from the `templates` module.\n"
   ]
  },
  {
   "cell_type": "code",
   "execution_count": 3,
   "metadata": {
    "id": "XjvgqCQgi0HT"
   },
   "outputs": [],
   "source": [
    "import pennylane as qml\n",
    "\n",
    "n_qubits = 2\n",
    "dev = qml.device(\"default.qubit\", wires=n_qubits)\n",
    "\n",
    "@qml.qnode(dev)\n",
    "def qnode(inputs, weights):\n",
    "    qml.templates.AngleEmbedding(inputs, wires=range(n_qubits))\n",
    "    qml.templates.BasicEntanglerLayers(weights, wires=range(n_qubits))\n",
    "    return [qml.expval(qml.PauliZ(wires=i)) for i in range(n_qubits)]"
   ]
  },
  {
   "cell_type": "markdown",
   "metadata": {
    "id": "njHsuYnAi0HU"
   },
   "source": [
    "## Interfacing with Torch\n",
    "\n",
    "With the QNode defined, we are ready to interface with `torch.nn`. This\n",
    "is achieved using the `pennylane.qnn.TorchLaye` class of the\n",
    "`pennylane.qnn` module, which converts the QNode to the elementary\n",
    "building block of `torch.nn` *layer*. We shall see in the following\n",
    "how the resultant layer can be combined with other well-known neural\n",
    "network layers to form a hybrid model.\n",
    "\n",
    "We must first define the `weight_shapes` dictionary. Recall that all of\n",
    "the arguments of the QNode (except the one named `inputs`) are treated\n",
    "as trainable weights. For the QNode to be successfully converted to a\n",
    "layer in `torch.nn`, we need to provide the details of the shape of each\n",
    "trainable weight for them to be initialized. The `weight_shapes`\n",
    "dictionary maps from the argument names of the QNode to corresponding\n",
    "shapes:\n"
   ]
  },
  {
   "cell_type": "code",
   "execution_count": 4,
   "metadata": {
    "id": "nf8djT0ni0HU"
   },
   "outputs": [],
   "source": [
    "n_layers = 6\n",
    "weight_shapes = {\"weights\": (n_layers, n_qubits)}"
   ]
  },
  {
   "cell_type": "markdown",
   "metadata": {
    "id": "zxSgL4edi0HU"
   },
   "source": [
    "In our example, the `weights` argument of the QNode is trainable and has\n",
    "shape given by `(n_layers, n_qubits)`, which is passed to `pennylane.templates.layers.BasicEntanglerLayers()`.\n",
    "\n",
    "Now that `weight_shapes` is defined, it is easy to then convert the\n",
    "QNode:\n"
   ]
  },
  {
   "cell_type": "code",
   "execution_count": 5,
   "metadata": {
    "id": "6EQWxt2di0HV"
   },
   "outputs": [],
   "source": [
    "qlayer = qml.qnn.TorchLayer(qnode, weight_shapes)"
   ]
  },
  {
   "cell_type": "markdown",
   "metadata": {
    "id": "cPf4MrC9mOBp"
   },
   "source": [
    "With this done, the QNode can now be treated just like any other\n",
    "`torch.nn` layer and we can proceed using the familiar Torch workflow.\n"
   ]
  },
  {
   "cell_type": "markdown",
   "metadata": {
    "id": "TUJaylGRi0HV"
   },
   "source": [
    "## Creating a hybrid model\n",
    "\n",
    "Let's create a basic three-layered hybrid model consisting of:\n",
    "\n",
    "1.  a 2-neuron fully connected classical layer\n",
    "2.  our 2-qubit QNode converted into a layer\n",
    "3.  another 2-neuron fully connected classical layer\n",
    "4.  a softmax activation to convert to a probability vector\n",
    "\n",
    "A diagram of the model can be seen in the figure below.\n",
    "\n",
    "![](https://pennylane.ai/qml/_images/qnn_torch.png)\n",
    "\n",
    "We can construct the model using the `Sequential` API:\n"
   ]
  },
  {
   "cell_type": "code",
   "execution_count": 6,
   "metadata": {
    "id": "rPPCHr_mi0HW"
   },
   "outputs": [],
   "source": [
    "clayer_1 = torch.nn.Linear(2, 2)\n",
    "clayer_2 = torch.nn.Linear(2, 2)\n",
    "softmax = torch.nn.Softmax(dim=1)\n",
    "layers = [clayer_1, qlayer, clayer_2, softmax]\n",
    "model = torch.nn.Sequential(*layers)"
   ]
  },
  {
   "cell_type": "markdown",
   "metadata": {
    "id": "eIkEeGsvi0HW"
   },
   "source": [
    "## Training the model\n",
    "\n",
    "We can now train our hybrid model on the classification dataset using\n",
    "the usual Torch approach. We'll use the standard `SGD` optimizer and the mean absolute error loss function:\n"
   ]
  },
  {
   "cell_type": "code",
   "execution_count": 7,
   "metadata": {
    "id": "3kcjczgri0HX"
   },
   "outputs": [],
   "source": [
    "opt = torch.optim.SGD(model.parameters(), lr=0.2)\n",
    "loss = torch.nn.L1Loss()"
   ]
  },
  {
   "cell_type": "markdown",
   "metadata": {
    "id": "ijhtv1jgi0HX"
   },
   "source": [
    "Note that there are more advanced combinations of optimizer and loss\n",
    "function, but here we are focusing on the basics.\n",
    "\n",
    "The model is now ready to be trained!\n"
   ]
  },
  {
   "cell_type": "code",
   "execution_count": 8,
   "metadata": {
    "colab": {
     "base_uri": "https://localhost:8080/"
    },
    "id": "6NMBDhu8i0HY",
    "outputId": "25d3dba4-949d-4ed1-9857-ecd594422e15"
   },
   "outputs": [
    {
     "name": "stderr",
     "output_type": "stream",
     "text": [
      "C:\\ProgramData\\Anaconda3\\lib\\site-packages\\torch\\autograd\\__init__.py:147: UserWarning: Casting complex values to real discards the imaginary part (Triggered internally at  ..\\aten\\src\\ATen\\native\\Copy.cpp:240.)\n",
      "  Variable._execution_engine.run_backward(\n"
     ]
    },
    {
     "name": "stdout",
     "output_type": "stream",
     "text": [
      "Average loss over epoch 1: 0.4943\n",
      "Average loss over epoch 2: 0.4226\n",
      "Average loss over epoch 3: 0.2847\n",
      "Average loss over epoch 4: 0.2121\n",
      "Average loss over epoch 5: 0.1845\n",
      "Average loss over epoch 6: 0.1666\n",
      "Accuracy: 85.5%\n"
     ]
    }
   ],
   "source": [
    "X = torch.tensor(X, requires_grad=True).float()\n",
    "y_hot = y_hot.float()\n",
    "\n",
    "batch_size = 5\n",
    "batches = 200 // batch_size\n",
    "\n",
    "data_loader = torch.utils.data.DataLoader(\n",
    "    list(zip(X, y_hot)), batch_size=5, shuffle=True, drop_last=True\n",
    ")\n",
    "\n",
    "epochs = 6\n",
    "\n",
    "for epoch in range(epochs):\n",
    "\n",
    "    running_loss = 0\n",
    "\n",
    "    for xs, ys in data_loader:\n",
    "        opt.zero_grad()\n",
    "\n",
    "        loss_evaluated = loss(model(xs), ys)\n",
    "        loss_evaluated.backward()\n",
    "\n",
    "        opt.step()\n",
    "\n",
    "        running_loss += loss_evaluated\n",
    "\n",
    "    avg_loss = running_loss / batches\n",
    "    print(\"Average loss over epoch {}: {:.4f}\".format(epoch + 1, avg_loss))\n",
    "\n",
    "y_pred = model(X)\n",
    "predictions = torch.argmax(y_pred, axis=1).detach().numpy()\n",
    "\n",
    "correct = [1 if p == p_true else 0 for p, p_true in zip(predictions, y)]\n",
    "accuracy = sum(correct) / len(correct)\n",
    "print(f\"Accuracy: {accuracy * 100}%\")"
   ]
  },
  {
   "cell_type": "markdown",
   "metadata": {
    "id": "ii5offB7n4eh"
   },
   "source": [
    "How did we do? The model looks to have successfully trained and the accuracy is reasonably high. In practice, we would aim to push the accuracy higher by thinking carefully about the model design and the choice of `hyperparameters` such as the `learning rate`."
   ]
  },
  {
   "cell_type": "markdown",
   "metadata": {
    "id": "6VFtNhbei0HY"
   },
   "source": [
    "## Creating non-sequential models\n",
    "\n",
    "The model we created above was composed of a sequence of classical and\n",
    "quantum layers. This type of model is very common and is suitable in a\n",
    "lot of situations. However, in some cases we may want a greater degree\n",
    "of control over how the model is constructed, for example when we have\n",
    "multiple inputs and outputs or when we want to distribute the output of\n",
    "one layer into multiple subsequent layers.\n",
    "\n",
    "Suppose we want to make a hybrid model consisting of:\n",
    "\n",
    "1.  a 4-neuron fully connected classical layer\n",
    "2.  a 2-qubit quantum layer connected to the first two neurons of the\n",
    "    previous classical layer\n",
    "3.  a 2-qubit quantum layer connected to the second two neurons of the\n",
    "    previous classical layer\n",
    "4.  a 2-neuron fully connected classical layer which takes a\n",
    "    4-dimensional input from the combination of the previous quantum\n",
    "    layers\n",
    "5.  a softmax activation to convert to a probability vector\n",
    "\n",
    "A diagram of the model can be seen in the figure below.\n",
    "\n",
    "![](https://pennylane.ai/qml/_images/qnn2_torch.png)\n",
    "\n",
    "This model can also be constructed by creating a new class that inherits\n",
    "from the `torch.nn` and overriding the `forward()` method:\n"
   ]
  },
  {
   "cell_type": "code",
   "execution_count": 14,
   "metadata": {
    "id": "eumx0vkdi0HZ"
   },
   "outputs": [],
   "source": [
    "class HybridModel(torch.nn.Module):\n",
    "    def __init__(self):\n",
    "        super().__init__()\n",
    "        self.clayer_1 = torch.nn.Linear(2, 4)\n",
    "        self.qlayer_1 = qml.qnn.TorchLayer(qnode, weight_shapes)\n",
    "        self.qlayer_2 = qml.qnn.TorchLayer(qnode, weight_shapes)\n",
    "        self.clayer_2 = torch.nn.Linear(4, 2)\n",
    "        self.softmax = torch.nn.Softmax(dim=1)\n",
    "\n",
    "    def forward(self, x):\n",
    "        x = self.clayer_1(x)\n",
    "        x_1, x_2 = torch.split(x, 2, dim=1)\n",
    "        x_1 = self.qlayer_1(x_1)\n",
    "        x_2 = self.qlayer_2(x_2)\n",
    "        x = torch.cat([x_1, x_2], axis=1)\n",
    "        x = self.clayer_2(x)\n",
    "        return self.softmax(x)\n",
    "\n",
    "model = HybridModel()"
   ]
  },
  {
   "cell_type": "markdown",
   "metadata": {
    "id": "x53fe-3li0HZ"
   },
   "source": [
    "As a final step, let's train the model to check if it's working:\n"
   ]
  },
  {
   "cell_type": "code",
   "execution_count": 15,
   "metadata": {
    "colab": {
     "base_uri": "https://localhost:8080/"
    },
    "id": "RKRaOn8Vi0Ha",
    "outputId": "dbcf923a-e66c-4325-e63d-916a87735149"
   },
   "outputs": [
    {
     "name": "stdout",
     "output_type": "stream",
     "text": [
      "Average loss over epoch 1: 0.4333\n",
      "Average loss over epoch 2: 0.2811\n",
      "Average loss over epoch 3: 0.2164\n",
      "Average loss over epoch 4: 0.1909\n",
      "Average loss over epoch 5: 0.1704\n",
      "Average loss over epoch 6: 0.1639\n",
      "Accuracy: 85.5%\n"
     ]
    }
   ],
   "source": [
    "opt = torch.optim.SGD(model.parameters(), lr=0.2)\n",
    "epochs = 6\n",
    "\n",
    "for epoch in range(epochs):\n",
    "\n",
    "    running_loss = 0\n",
    "\n",
    "    for xs, ys in data_loader:\n",
    "        opt.zero_grad()\n",
    "\n",
    "        loss_evaluated = loss(model(xs), ys)\n",
    "        loss_evaluated.backward()\n",
    "\n",
    "        opt.step()\n",
    "\n",
    "        running_loss += loss_evaluated\n",
    "\n",
    "    avg_loss = running_loss / batches\n",
    "    print(\"Average loss over epoch {}: {:.4f}\".format(epoch + 1, avg_loss))\n",
    "\n",
    "y_pred = model(X)\n",
    "predictions = torch.argmax(y_pred, axis=1).detach().numpy()\n",
    "\n",
    "correct = [1 if p == p_true else 0 for p, p_true in zip(predictions, y)]\n",
    "accuracy = sum(correct) / len(correct)\n",
    "print(f\"Accuracy: {accuracy * 100}%\")"
   ]
  },
  {
   "cell_type": "markdown",
   "metadata": {
    "id": "-rFHFov9i0Hd"
   },
   "source": [
    "**Great! We've mastered the basics of constructing hybrid\n",
    "classical-quantum models using PennyLane and Torch.**\n"
   ]
  },
  {
   "cell_type": "markdown",
   "metadata": {
    "id": "bZKnJ97z0CFo"
   },
   "source": [
    "# Home task"
   ]
  },
  {
   "cell_type": "markdown",
   "metadata": {
    "id": "yvVCiVMc0dX4"
   },
   "source": [
    "## Quanvolutional Neural Networks\n",
    "\n",
    "\n",
    "*Quanvolutional Neural Network* is a quantum\n",
    "machine learning model originally introduced in [Henderson et al.\n",
    "(2019)](https://arxiv.org/abs/1904.04767).\n",
    "\n",
    "**Classical convolution**\n",
    "\n",
    "The *convolutional neural network* (CNN) is a standard model in\n",
    "classical machine learning which is particularly suitable for processing\n",
    "images. The model is based on the idea of a *convolution layer* where,\n",
    "instead of processing the full input data with a global function, a\n",
    "local convolution is applied.\n",
    "\n",
    "If the input is an image, small local regions are sequentially processed\n",
    "with the same kernel. The results obtained for each region are usually\n",
    "associated to different channels of a single output pixel. The union of\n",
    "all the output pixels produces a new image-like object, which can be\n",
    "further processed by additional layers.\n",
    "\n",
    "**Quantum convolution**\n",
    "\n",
    "One can extend the same idea also to the context of quantum variational\n",
    "circuits. A possible approach is given by the following procedure. The scheme is also represented in the figure at google drive (\"Quanvolution.PNG\").\n",
    "\n",
    "1.  A small region of the input image, in our example a $2 \\times 2$ square, is embedded into a quantum circuit. This can be achieved with parametrized rotations applied to the qubits initialized in the ground state.\n",
    "2.  A quantum computation, associated to a unitary $U$, is performed on the system. The unitary could be generated by a variational quantum circuit.\n",
    "3.  The quantum system is finally measured, obtaining a list of classical expectation values. The measurement results could also be classically post-processed, but for simplicity, you can use the raw expectation values.\n",
    "4.  Analogously to a classical convolution layer, each expectation value is mapped to a different channel of a single output pixel.\n",
    "5.  Iterating the same procedure over different regions, one can scan the full input image, producing an output object which will be structured as a multi-channel image.\n",
    "6.  The quantum convolution can be followed by further quantum layers or by classical layers.\n",
    "\n",
    "The main difference with respect to a classical convolution is that a\n",
    "quantum circuit can generate highly complex kernels whose computation\n",
    "could be, at least in principle, classically intractable.\n"
   ]
  },
  {
   "cell_type": "markdown",
   "metadata": {
    "id": "gbfyPCeC0CQf"
   },
   "source": [
    "**Note**\n",
    "\n",
    "Pennylane provides a tutorial where a fixed non-trainable quantum circuit is used as a \"quanvolution\" kernel, while the subsequent classical layers are trained for the MNIST classification\n",
    "https://pennylane.ai/qml/demos/tutorial_quanvolution.html \n",
    "\n",
    "But in your home task implementation **quantum kernel should also be trained**."
   ]
  },
  {
   "cell_type": "code",
   "execution_count": null,
   "metadata": {
    "id": "PsdoRZb04AnM"
   },
   "outputs": [],
   "source": []
  }
 ],
 "metadata": {
  "colab": {
   "collapsed_sections": [
    "lKkHV2Xki0HT"
   ],
   "name": "qml.ipynb",
   "provenance": []
  },
  "kernelspec": {
   "display_name": "Python 3",
   "language": "python",
   "name": "python3"
  },
  "language_info": {
   "codemirror_mode": {
    "name": "ipython",
    "version": 3
   },
   "file_extension": ".py",
   "mimetype": "text/x-python",
   "name": "python",
   "nbconvert_exporter": "python",
   "pygments_lexer": "ipython3",
   "version": "3.8.8"
  }
 },
 "nbformat": 4,
 "nbformat_minor": 1
}
