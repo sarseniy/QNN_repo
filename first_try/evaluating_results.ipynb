{
 "cells": [
  {
   "cell_type": "markdown",
   "id": "9be7031d",
   "metadata": {},
   "source": [
    "# Collecting data"
   ]
  },
  {
   "cell_type": "code",
   "execution_count": 6,
   "id": "c0761410",
   "metadata": {},
   "outputs": [
    {
     "name": "stdout",
     "output_type": "stream",
     "text": [
      "Using cuda device\n"
     ]
    }
   ],
   "source": [
    "import torch\n",
    "import pennylane as qml\n",
    "device = \"cuda\" if torch.cuda.is_available() else \"cpu\"\n",
    "print(\"Using {} device\".format(device))"
   ]
  },
  {
   "cell_type": "code",
   "execution_count": 7,
   "id": "70971de4",
   "metadata": {},
   "outputs": [],
   "source": [
    "from torchvision import datasets\n",
    "from torchvision.transforms import ToTensor\n",
    "\n",
    "train_data = datasets.MNIST(\n",
    "    root = 'data',\n",
    "    train = True,                         \n",
    "    transform = ToTensor(), \n",
    "    download = True,            \n",
    ")\n",
    "test_data = datasets.MNIST(\n",
    "    root = 'data', \n",
    "    train = False, \n",
    "    transform = ToTensor()\n",
    ")"
   ]
  },
  {
   "cell_type": "code",
   "execution_count": 21,
   "id": "3f780337",
   "metadata": {},
   "outputs": [],
   "source": [
    "from torch.utils.data import DataLoader\n",
    "\n",
    "loaders = {\n",
    "    'train' : torch.utils.data.DataLoader(train_data, \n",
    "                                          batch_size=100, \n",
    "                                          shuffle=True, \n",
    "                                          num_workers=1,\n",
    "                                          pin_memory=True),\n",
    "    \n",
    "    'test'  : torch.utils.data.DataLoader(test_data, \n",
    "                                          batch_size=100, \n",
    "                                          shuffle=True, \n",
    "                                          num_workers=1,\n",
    "                                          pin_memory=True),\n",
    "}"
   ]
  },
  {
   "cell_type": "code",
   "execution_count": 33,
   "id": "73b7b785",
   "metadata": {},
   "outputs": [],
   "source": [
    "def test(model):\n",
    "    # Test the model\n",
    "    model.eval()\n",
    "    with torch.no_grad():\n",
    "        accuracy = 0\n",
    "        for i, (images, labels) in enumerate(loaders['test']):\n",
    "            print(i)\n",
    "            images, labels = images.to(device), labels.to(device)\n",
    "            test_output = model(images)\n",
    "            pred_y = torch.max(test_output, 1)[1]\n",
    "            accuracy += (pred_y == labels).sum().item() \n",
    "        accuracy /= len(loaders['test'].dataset)\n",
    "        print('Test Accuracy of the model on the 10000 test images: {:.2f} %'.format(accuracy*100.0))"
   ]
  },
  {
   "cell_type": "markdown",
   "id": "7317ea89",
   "metadata": {},
   "source": [
    "# Loading models"
   ]
  },
  {
   "cell_type": "markdown",
   "id": "85b8d057",
   "metadata": {},
   "source": [
    "### 2 qubits"
   ]
  },
  {
   "cell_type": "markdown",
   "id": "8a73dae6",
   "metadata": {},
   "source": [
    "One circuit consisting of two qubits"
   ]
  },
  {
   "cell_type": "code",
   "execution_count": 82,
   "id": "08356f0c",
   "metadata": {},
   "outputs": [],
   "source": [
    "n_qubits_1 = 2\n",
    "dev1 = qml.device(\"default.qubit\", wires=n_qubits_1)\n",
    "\n",
    "@qml.qnode(dev1, interface=\"torch\")\n",
    "def qnode1(inputs, weights):\n",
    "    qml.templates.AngleEmbedding(inputs, wires=range(n_qubits_1))\n",
    "    qml.templates.BasicEntanglerLayers(weights, wires=range(n_qubits_1))\n",
    "    return [qml.expval(qml.PauliZ(wires=i)) for i in range(n_qubits_1)]"
   ]
  },
  {
   "cell_type": "code",
   "execution_count": 83,
   "id": "27cd1261",
   "metadata": {},
   "outputs": [],
   "source": [
    "n_layers_1 = 5\n",
    "weight_shapes_1 = {\"weights\": (n_layers_1, n_qubits_1)}"
   ]
  },
  {
   "cell_type": "code",
   "execution_count": 84,
   "id": "0c308d43",
   "metadata": {},
   "outputs": [],
   "source": [
    "import torch.nn as nn\n",
    "\n",
    "class HybridNN2q(nn.Module):\n",
    "    def __init__(self):\n",
    "        super(HybridNN2q, self).__init__()\n",
    "        self.conv1 = nn.Sequential(         \n",
    "            nn.Conv2d(\n",
    "                in_channels=1,              \n",
    "                out_channels=16,            \n",
    "                kernel_size=5,              \n",
    "                stride=1,                   \n",
    "                padding=2,                  \n",
    "            ),                              \n",
    "            nn.ReLU(),                      \n",
    "            nn.MaxPool2d(kernel_size=2),    \n",
    "        )\n",
    "        self.conv2 = nn.Sequential(         \n",
    "            nn.Conv2d(\n",
    "                in_channels=16,              \n",
    "                out_channels=32,            \n",
    "                kernel_size=5,              \n",
    "                stride=1,                   \n",
    "                padding=2,    \n",
    "            ),     \n",
    "            nn.ReLU(),                      \n",
    "            nn.MaxPool2d(kernel_size=2),                \n",
    "        )\n",
    "        self.fc_1 = nn.Linear(32 * 7 * 7, 2)\n",
    "        \n",
    "        # LIST USAGE?\n",
    "        self.qlayer_1 = qml.qnn.TorchLayer(qnode1, weight_shapes_1)\n",
    "\n",
    "        self.qlayer_1.to(device)\n",
    "\n",
    "        \n",
    "        self.fc_2 = nn.Linear(2, 10)\n",
    "\n",
    "        \n",
    "    def forward(self, x):\n",
    "\n",
    "        x = self.conv1(x)\n",
    "\n",
    "        x = self.conv2(x)\n",
    "\n",
    "        # flatten the output of conv2 to (batch_size, 32 * 7 * 7)\n",
    "        x = x.view(x.size(0), -1) \n",
    "\n",
    "        x = self.fc_1(x)     \n",
    "        \n",
    "        x = self.qlayer_1(x)\n",
    "        x = x.to(device)\n",
    "        \n",
    "        logits = self.fc_2(x)\n",
    "        \n",
    "        return logits"
   ]
  },
  {
   "cell_type": "code",
   "execution_count": 85,
   "id": "63fd5752",
   "metadata": {},
   "outputs": [
    {
     "data": {
      "text/plain": [
       "HybridNN2q(\n",
       "  (conv1): Sequential(\n",
       "    (0): Conv2d(1, 16, kernel_size=(5, 5), stride=(1, 1), padding=(2, 2))\n",
       "    (1): ReLU()\n",
       "    (2): MaxPool2d(kernel_size=2, stride=2, padding=0, dilation=1, ceil_mode=False)\n",
       "  )\n",
       "  (conv2): Sequential(\n",
       "    (0): Conv2d(16, 32, kernel_size=(5, 5), stride=(1, 1), padding=(2, 2))\n",
       "    (1): ReLU()\n",
       "    (2): MaxPool2d(kernel_size=2, stride=2, padding=0, dilation=1, ceil_mode=False)\n",
       "  )\n",
       "  (fc_1): Linear(in_features=1568, out_features=2, bias=True)\n",
       "  (qlayer_1): <Quantum Torch Layer: func=qnode1>\n",
       "  (fc_2): Linear(in_features=2, out_features=10, bias=True)\n",
       ")"
      ]
     },
     "execution_count": 85,
     "metadata": {},
     "output_type": "execute_result"
    }
   ],
   "source": [
    "two_qubits = HybridNN2q()\n",
    "two_qubits.load_state_dict(torch.load('trained_model.pt'))\n",
    "two_qubits.to(device)\n",
    "two_qubits.eval()"
   ]
  },
  {
   "cell_type": "code",
   "execution_count": 86,
   "id": "488e1f3a",
   "metadata": {},
   "outputs": [
    {
     "name": "stdout",
     "output_type": "stream",
     "text": [
      "HybridNN2q(\n",
      "  (conv1): Sequential(\n",
      "    (0): Conv2d(1, 16, kernel_size=(5, 5), stride=(1, 1), padding=(2, 2))\n",
      "    (1): ReLU()\n",
      "    (2): MaxPool2d(kernel_size=2, stride=2, padding=0, dilation=1, ceil_mode=False)\n",
      "  )\n",
      "  (conv2): Sequential(\n",
      "    (0): Conv2d(16, 32, kernel_size=(5, 5), stride=(1, 1), padding=(2, 2))\n",
      "    (1): ReLU()\n",
      "    (2): MaxPool2d(kernel_size=2, stride=2, padding=0, dilation=1, ceil_mode=False)\n",
      "  )\n",
      "  (fc_1): Linear(in_features=1568, out_features=2, bias=True)\n",
      "  (qlayer_1): <Quantum Torch Layer: func=qnode1>\n",
      "  (fc_2): Linear(in_features=2, out_features=10, bias=True)\n",
      ")\n"
     ]
    }
   ],
   "source": [
    "print(two_qubits)"
   ]
  },
  {
   "cell_type": "code",
   "execution_count": 87,
   "id": "c7c91b83",
   "metadata": {
    "scrolled": true
   },
   "outputs": [
    {
     "name": "stdout",
     "output_type": "stream",
     "text": [
      "0\n",
      "1\n",
      "2\n",
      "3\n",
      "4\n",
      "5\n",
      "6\n",
      "7\n",
      "8\n",
      "9\n",
      "10\n",
      "11\n",
      "12\n",
      "13\n",
      "14\n",
      "15\n",
      "16\n",
      "17\n",
      "18\n",
      "19\n",
      "20\n",
      "21\n",
      "22\n",
      "23\n",
      "24\n",
      "25\n",
      "26\n",
      "27\n",
      "28\n",
      "29\n",
      "30\n",
      "31\n",
      "32\n",
      "33\n",
      "34\n",
      "35\n",
      "36\n",
      "37\n",
      "38\n",
      "39\n",
      "40\n",
      "41\n",
      "42\n",
      "43\n",
      "44\n",
      "45\n",
      "46\n",
      "47\n",
      "48\n",
      "49\n",
      "50\n",
      "51\n",
      "52\n",
      "53\n",
      "54\n",
      "55\n",
      "56\n",
      "57\n",
      "58\n",
      "59\n",
      "60\n",
      "61\n",
      "62\n",
      "63\n",
      "64\n",
      "65\n",
      "66\n",
      "67\n",
      "68\n",
      "69\n",
      "70\n",
      "71\n",
      "72\n",
      "73\n",
      "74\n",
      "75\n",
      "76\n",
      "77\n",
      "78\n",
      "79\n",
      "80\n",
      "81\n",
      "82\n",
      "83\n",
      "84\n",
      "85\n",
      "86\n",
      "87\n",
      "88\n",
      "89\n",
      "90\n",
      "91\n",
      "92\n",
      "93\n",
      "94\n",
      "95\n",
      "96\n",
      "97\n",
      "98\n",
      "99\n",
      "Test Accuracy of the model on the 10000 test images: 92.27 %\n"
     ]
    }
   ],
   "source": [
    "test(two_qubits)"
   ]
  },
  {
   "cell_type": "code",
   "execution_count": 88,
   "id": "c729c498",
   "metadata": {},
   "outputs": [
    {
     "data": {
      "text/plain": [
       "array([2, 8, 7, 0, 8, 1, 1, 4, 7, 7], dtype=int64)"
      ]
     },
     "execution_count": 88,
     "metadata": {},
     "output_type": "execute_result"
    }
   ],
   "source": [
    "sample = next(iter(loaders['test']))\n",
    "images, labels = sample\n",
    "actual_number = labels[:10].numpy()\n",
    "actual_number"
   ]
  },
  {
   "cell_type": "code",
   "execution_count": 89,
   "id": "43b7adfe",
   "metadata": {},
   "outputs": [
    {
     "name": "stdout",
     "output_type": "stream",
     "text": [
      "Prediction number: [2 8 7 0 8 1 1 4 7 7]\n",
      "Actual number: [2 8 7 0 8 1 1 4 7 7]\n"
     ]
    }
   ],
   "source": [
    "test_output = two_qubits(images[:10].to(device))\n",
    "pred_y = torch.max(test_output, 1)[1].cpu().numpy()\n",
    "print(f'Prediction number: {pred_y}')\n",
    "print(f'Actual number: {actual_number}')"
   ]
  },
  {
   "cell_type": "markdown",
   "id": "1fe20157",
   "metadata": {},
   "source": [
    "### 4 circuits of 5 qubits"
   ]
  },
  {
   "cell_type": "code",
   "execution_count": 90,
   "id": "3422d9ca",
   "metadata": {},
   "outputs": [],
   "source": [
    "n_qubits_2 = 5\n",
    "dev2 = qml.device(\"default.qubit\", wires=n_qubits_2)\n",
    "\n",
    "@qml.qnode(dev2, interface=\"torch\")\n",
    "def qnode2(inputs, weights):\n",
    "    qml.templates.AngleEmbedding(inputs, wires=range(n_qubits_2))\n",
    "    qml.templates.BasicEntanglerLayers(weights, wires=range(n_qubits_2))\n",
    "    return [qml.expval(qml.PauliZ(wires=i)) for i in range(n_qubits_2)]"
   ]
  },
  {
   "cell_type": "code",
   "execution_count": 91,
   "id": "ef14d253",
   "metadata": {},
   "outputs": [],
   "source": [
    "n_layers_2 = 5\n",
    "weight_shapes_2 = {\"weights\": (n_layers_2, n_qubits_2)}"
   ]
  },
  {
   "cell_type": "code",
   "execution_count": 92,
   "id": "0c7dd4b5",
   "metadata": {},
   "outputs": [],
   "source": [
    "import torch.nn as nn\n",
    "\n",
    "class HybridNN5q(nn.Module):\n",
    "    def __init__(self):\n",
    "        super(HybridNN5q, self).__init__()\n",
    "        self.conv1 = nn.Sequential(         \n",
    "            nn.Conv2d(\n",
    "                in_channels=1,              \n",
    "                out_channels=16,            \n",
    "                kernel_size=5,              \n",
    "                stride=1,                   \n",
    "                padding=2,                  \n",
    "            ),                              \n",
    "            nn.ReLU(),                      \n",
    "            nn.MaxPool2d(kernel_size=2),    \n",
    "        )\n",
    "        self.conv2 = nn.Sequential(         \n",
    "            nn.Conv2d(\n",
    "                in_channels=16,              \n",
    "                out_channels=32,            \n",
    "                kernel_size=5,              \n",
    "                stride=1,                   \n",
    "                padding=2,    \n",
    "            ),     \n",
    "            nn.ReLU(),                      \n",
    "            nn.MaxPool2d(kernel_size=2),                \n",
    "        )\n",
    "        self.fc_1 = nn.Linear(32 * 7 * 7, 20)\n",
    "        \n",
    "        # LIST USAGE?\n",
    "        self.qlayer_1 = qml.qnn.TorchLayer(qnode2, weight_shapes_2)\n",
    "        self.qlayer_2 = qml.qnn.TorchLayer(qnode2, weight_shapes_2)\n",
    "        self.qlayer_3 = qml.qnn.TorchLayer(qnode2, weight_shapes_2)\n",
    "        self.qlayer_4 = qml.qnn.TorchLayer(qnode2, weight_shapes_2)\n",
    "        \n",
    "        self.qlayer_1.to(device)\n",
    "        self.qlayer_2.to(device)\n",
    "        self.qlayer_3.to(device)\n",
    "        self.qlayer_4.to(device)\n",
    "        \n",
    "        self.fc_2 = nn.Linear(20, 10)\n",
    "\n",
    "        \n",
    "    def forward(self, x):\n",
    "\n",
    "        x = self.conv1(x)\n",
    "\n",
    "        x = self.conv2(x)\n",
    "\n",
    "        # flatten the output of conv2 to (batch_size, 32 * 7 * 7)\n",
    "        x = x.view(x.size(0), -1) \n",
    "\n",
    "        x = self.fc_1(x)\n",
    "        x_1, x_2, x_3, x_4 = torch.split(x, 5, dim=1) # second argument is number of elements in one new tensor\n",
    "        \n",
    "        x_1 = self.qlayer_1(x_1)\n",
    "        x_2 = self.qlayer_2(x_2)\n",
    "        x_3 = self.qlayer_3(x_3)\n",
    "        x_4 = self.qlayer_4(x_4)\n",
    "\n",
    "        \n",
    "        x = torch.cat([x_1, x_2, x_3, x_4], axis=1)\n",
    "        x = x.to(device)\n",
    "        \n",
    "        logits = self.fc_2(x)\n",
    "        \n",
    "        return logits"
   ]
  },
  {
   "cell_type": "code",
   "execution_count": 93,
   "id": "1c2089e9",
   "metadata": {
    "scrolled": true
   },
   "outputs": [
    {
     "data": {
      "text/plain": [
       "HybridNN5q(\n",
       "  (conv1): Sequential(\n",
       "    (0): Conv2d(1, 16, kernel_size=(5, 5), stride=(1, 1), padding=(2, 2))\n",
       "    (1): ReLU()\n",
       "    (2): MaxPool2d(kernel_size=2, stride=2, padding=0, dilation=1, ceil_mode=False)\n",
       "  )\n",
       "  (conv2): Sequential(\n",
       "    (0): Conv2d(16, 32, kernel_size=(5, 5), stride=(1, 1), padding=(2, 2))\n",
       "    (1): ReLU()\n",
       "    (2): MaxPool2d(kernel_size=2, stride=2, padding=0, dilation=1, ceil_mode=False)\n",
       "  )\n",
       "  (fc_1): Linear(in_features=1568, out_features=20, bias=True)\n",
       "  (qlayer_1): <Quantum Torch Layer: func=qnode2>\n",
       "  (qlayer_2): <Quantum Torch Layer: func=qnode2>\n",
       "  (qlayer_3): <Quantum Torch Layer: func=qnode2>\n",
       "  (qlayer_4): <Quantum Torch Layer: func=qnode2>\n",
       "  (fc_2): Linear(in_features=20, out_features=10, bias=True)\n",
       ")"
      ]
     },
     "execution_count": 93,
     "metadata": {},
     "output_type": "execute_result"
    }
   ],
   "source": [
    "five_qubits = HybridNN5q()\n",
    "five_qubits.load_state_dict(torch.load('trained_model_10qubits.pt'))\n",
    "five_qubits.to(device)\n",
    "five_qubits.eval()"
   ]
  },
  {
   "cell_type": "code",
   "execution_count": 94,
   "id": "727d536a",
   "metadata": {},
   "outputs": [
    {
     "name": "stdout",
     "output_type": "stream",
     "text": [
      "HybridNN5q(\n",
      "  (conv1): Sequential(\n",
      "    (0): Conv2d(1, 16, kernel_size=(5, 5), stride=(1, 1), padding=(2, 2))\n",
      "    (1): ReLU()\n",
      "    (2): MaxPool2d(kernel_size=2, stride=2, padding=0, dilation=1, ceil_mode=False)\n",
      "  )\n",
      "  (conv2): Sequential(\n",
      "    (0): Conv2d(16, 32, kernel_size=(5, 5), stride=(1, 1), padding=(2, 2))\n",
      "    (1): ReLU()\n",
      "    (2): MaxPool2d(kernel_size=2, stride=2, padding=0, dilation=1, ceil_mode=False)\n",
      "  )\n",
      "  (fc_1): Linear(in_features=1568, out_features=20, bias=True)\n",
      "  (qlayer_1): <Quantum Torch Layer: func=qnode2>\n",
      "  (qlayer_2): <Quantum Torch Layer: func=qnode2>\n",
      "  (qlayer_3): <Quantum Torch Layer: func=qnode2>\n",
      "  (qlayer_4): <Quantum Torch Layer: func=qnode2>\n",
      "  (fc_2): Linear(in_features=20, out_features=10, bias=True)\n",
      ")\n"
     ]
    }
   ],
   "source": [
    "print(five_qubits)"
   ]
  },
  {
   "cell_type": "code",
   "execution_count": 95,
   "id": "8e774220",
   "metadata": {
    "scrolled": true
   },
   "outputs": [
    {
     "name": "stdout",
     "output_type": "stream",
     "text": [
      "0\n",
      "1\n",
      "2\n",
      "3\n",
      "4\n",
      "5\n",
      "6\n",
      "7\n",
      "8\n",
      "9\n",
      "10\n",
      "11\n",
      "12\n",
      "13\n",
      "14\n",
      "15\n",
      "16\n",
      "17\n",
      "18\n",
      "19\n",
      "20\n",
      "21\n",
      "22\n",
      "23\n",
      "24\n",
      "25\n",
      "26\n",
      "27\n",
      "28\n",
      "29\n",
      "30\n",
      "31\n",
      "32\n",
      "33\n",
      "34\n",
      "35\n",
      "36\n",
      "37\n",
      "38\n",
      "39\n",
      "40\n",
      "41\n",
      "42\n",
      "43\n",
      "44\n",
      "45\n",
      "46\n",
      "47\n",
      "48\n",
      "49\n",
      "50\n",
      "51\n",
      "52\n",
      "53\n",
      "54\n",
      "55\n",
      "56\n",
      "57\n",
      "58\n",
      "59\n",
      "60\n",
      "61\n",
      "62\n",
      "63\n",
      "64\n",
      "65\n",
      "66\n",
      "67\n",
      "68\n",
      "69\n",
      "70\n",
      "71\n",
      "72\n",
      "73\n",
      "74\n",
      "75\n",
      "76\n",
      "77\n",
      "78\n",
      "79\n",
      "80\n",
      "81\n",
      "82\n",
      "83\n",
      "84\n",
      "85\n",
      "86\n",
      "87\n",
      "88\n",
      "89\n",
      "90\n",
      "91\n",
      "92\n",
      "93\n",
      "94\n",
      "95\n",
      "96\n",
      "97\n",
      "98\n",
      "99\n",
      "Test Accuracy of the model on the 10000 test images: 97.50 %\n"
     ]
    }
   ],
   "source": [
    "test(five_qubits)"
   ]
  },
  {
   "cell_type": "code",
   "execution_count": 96,
   "id": "d591e3cf",
   "metadata": {},
   "outputs": [
    {
     "data": {
      "text/plain": [
       "array([2, 2, 9, 3, 4, 8, 1, 3, 9, 2], dtype=int64)"
      ]
     },
     "execution_count": 96,
     "metadata": {},
     "output_type": "execute_result"
    }
   ],
   "source": [
    "sample = next(iter(loaders['test']))\n",
    "images, labels = sample\n",
    "actual_number = labels[:10].numpy()\n",
    "actual_number"
   ]
  },
  {
   "cell_type": "code",
   "execution_count": 97,
   "id": "07233e8c",
   "metadata": {},
   "outputs": [
    {
     "name": "stdout",
     "output_type": "stream",
     "text": [
      "Prediction number: [2 2 9 3 4 8 1 3 9 2]\n",
      "Actual number: [2 2 9 3 4 8 1 3 9 2]\n"
     ]
    }
   ],
   "source": [
    "test_output = five_qubits(images[:10].to(device))\n",
    "pred_y = torch.max(test_output, 1)[1].cpu().numpy()\n",
    "print(f'Prediction number: {pred_y}')\n",
    "print(f'Actual number: {actual_number}')"
   ]
  }
 ],
 "metadata": {
  "kernelspec": {
   "display_name": "Python 3",
   "language": "python",
   "name": "python3"
  },
  "language_info": {
   "codemirror_mode": {
    "name": "ipython",
    "version": 3
   },
   "file_extension": ".py",
   "mimetype": "text/x-python",
   "name": "python",
   "nbconvert_exporter": "python",
   "pygments_lexer": "ipython3",
   "version": "3.8.8"
  }
 },
 "nbformat": 4,
 "nbformat_minor": 5
}
